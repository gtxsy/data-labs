{
 "cells": [
  {
   "cell_type": "markdown",
   "metadata": {},
   "source": [
    "CLASSES AND OBJECTS IN PYTHON:\n",
    "    https://docs.python.org/3/tutorial/classes.html"
   ]
  },
  {
   "cell_type": "markdown",
   "metadata": {},
   "source": [
    "COMPLETE PYTHON DOCUMENTATION:\n",
    "    https://docs.python.org/3/tutorial/index.html"
   ]
  },
  {
   "cell_type": "markdown",
   "metadata": {},
   "source": [
    "It is not compulsory to organise your code into classes when you program in Python. You can use functions by themselves, in what is called a procedural programming approach. However, while a procedural style can suffice for writing short, simple programs, an object-oriented programming (OOP) approach becomes more valuable the more your program grows in size and complexity.\n",
    "\n",
    "The main additional advantage of object orientation is that it combines data with the functions which act upon that data in a single structure. This makes it easy for us to find related parts of our code, since they are physically defined in close proximity to one another. \n",
    "\n",
    "The most important principle of object orientation is encapsulation: the idea that data inside the object should only be accessed through a public interface – that is, the object’s methods.\n",
    "\n",
    "In Python, there are two main types of relationships between classes: composition and inheritance.\n",
    "Inheritance is a way of arranging objects in a hierarchy from the most general to the most specific. An object which inherits from another object is considered to be a subtype of that object."
   ]
  },
  {
   "cell_type": "code",
   "execution_count": 1,
   "metadata": {},
   "outputs": [
    {
     "name": "stdout",
     "output_type": "stream",
     "text": [
      "himanshu\n",
      "aggarwal\n",
      "himanshu.aggarwal@ironhack.com\n",
      "27\n"
     ]
    }
   ],
   "source": [
    "import datetime\n",
    "class Person:\n",
    "\n",
    "    def __init__(self, first_name, last_name, dob, address, telephone, email):\n",
    "        self.first_name = first_name\n",
    "        self.last_name = last_name\n",
    "        self.dob = dob\n",
    "\n",
    "        self.address = address\n",
    "        self.telephone = telephone\n",
    "        self.email = email\n",
    "\n",
    "    def age(self):\n",
    "        today = datetime.date.today()\n",
    "        age = today.year - self.dob.year\n",
    "\n",
    "        if today < datetime.date(today.year, self.dob.month, self.dob.day):\n",
    "            age -= 1\n",
    "\n",
    "        return age\n",
    "\n",
    "person = Person(\n",
    "    \"himanshu\",\n",
    "    \"aggarwal\",\n",
    "    datetime.date(1992, 3, 26), # year, month, day\n",
    "    \"ABC, MIAMI\",\n",
    "    \"480 395 8900\",\n",
    "    \"himanshu.aggarwal@ironhack.com\"\n",
    ")\n",
    "\n",
    "print(person.first_name)\n",
    "print(person.last_name)\n",
    "print(person.email)\n",
    "print(person.age())"
   ]
  },
  {
   "cell_type": "markdown",
   "metadata": {},
   "source": [
    "We can also list any parent classes in between round brackets before the colon while\n",
    "defining the class <Person>. This would mean that this class can inherit \n",
    "properties/attributes and methods defined in the parent class\n",
    "\n",
    "__init__  is a special function that is called first when an instance of the class is \n",
    "created. age() is a custom method defined. \n",
    "\n",
    "\n",
    "CONSTRUCTOR \n",
    "\n",
    "__init__ is sometimes called the object’s constructor, because it is used similarly to the way that constructors are used in other languages like C++. \n",
    "A constructor is a member function of a class which initializes objects of a class. In C++, Constructor is automatically called when object(instance of class) create. It is special member function of the class.A constructor is different from normal functions in following ways:\n",
    "\n",
    "Constructor has same name as the class itself\n",
    "Constructors don’t have return type\n",
    "A constructor is automatically called when an object is created.\n",
    "If we do not specify a constructor, C++ compiler generates a default constructor\n",
    "\n",
    "\n",
    "BACK TO THE ABOVE EXAMPLE\n",
    "\n",
    "Both of these method definitions have self as the first parameter, and we use this variable inside the method bodies – but we don’t appear to pass this parameter in. This is because whenever we call a method on an object, the object itself is automatically passed in as the first parameter. This gives us a way to access the object’s properties from inside the object’s methods.\n",
    "\n",
    "All the attributes which are defined on a Person instance are instance attributes – they are added to the instance when the __init__ method is executed. We can, however, also define attributes which are set on the class. These attributes will be shared by all instances of that class. \n",
    "\n",
    "FUNCTION OVERLOADING\n",
    "\n",
    "Any class that you define has object as its parent class even if you don’t explicitly say so – so your class will have a lot of default attributes and methods that any Python object has. This is why you can just leave out the __init__ method out of your class if you don’t have any initialisation to do – the default that you inherited from object (which does nothing) will be used instead. If you do write your own __init__ method, it will override the default method. Sometimes we also call this overloading. The same goes for other special functions such as _str_ etc. These are also somtimes called magic methods\n",
    "\n",
    "Here are some examples of special object properties:\n",
    "\n",
    "__init__: the initialisation method of an object, which is called when the object is created.\n",
    "__str__: the string representation method of an object, which is called when you use the str function to convert that object to a string.\n",
    "__class__: an attribute which stores the the class (or type) of an object – this is what is returned when you use the type function on the object.\n",
    "__eq__: a method which determines whether this object is equal to another. There are also other methods for determining if it’s not equal, less than, etc.. These methods are used in object comparisons, for example when we use the equality operator == to check if two objects are equal.\n",
    "__add__ is a method which allows this object to be added to another object. There are equivalent methods for all the other arithmetic operators. Not all objects support all arithemtic operations – numbers have all of these methods defined, but other objects may only have a subset.\n",
    "__iter__: a method which returns an iterator over the object – we will find it on strings, lists and other iterables. It is executed when we use the iter function on the object.\n",
    "__len__: a method which calculates the length of an object – we will find it on sequences. It is executed when we use the len function of an object.\n",
    "__dict__: a dictionary which contains all the instance attributes of an object, with their names as keys. It can be useful if we want to iterate over all the attributes of an object. __dict__ does not include any methods, class attributes or special default attributes like __class__"
   ]
  },
  {
   "cell_type": "markdown",
   "metadata": {},
   "source": [
    "CLASS INHERITENCE"
   ]
  },
  {
   "cell_type": "code",
   "execution_count": 2,
   "metadata": {},
   "outputs": [
    {
     "name": "stdout",
     "output_type": "stream",
     "text": [
      "Calling child constructor\n",
      "Calling child method\n",
      "Calling parent method\n",
      "Parent attribute : 200\n"
     ]
    }
   ],
   "source": [
    "class Parent:        # define parent class\n",
    "   parentAttr = 100\n",
    "   def __init__(self):\n",
    "      print(\"Calling parent constructor\")\n",
    "\n",
    "   def parentMethod(self):\n",
    "      print('Calling parent method') \n",
    "\n",
    "   def setAttr(self, attr):\n",
    "      Parent.parentAttr = attr\n",
    "\n",
    "   def getAttr(self):\n",
    "      print(\"Parent attribute :\", Parent.parentAttr)\n",
    "\n",
    "class Child(Parent): # define child class\n",
    "   def __init__(self):\n",
    "      print(\"Calling child constructor\")\n",
    "\n",
    "   def childMethod(self):\n",
    "      print('Calling child method')\n",
    "\n",
    "c = Child()          # instance of child\n",
    "c.childMethod()      # child calls its method\n",
    "c.parentMethod()     # calls parent's method\n",
    "c.setAttr(200)       # again call parent's method\n",
    "c.getAttr()          # again call parent's method"
   ]
  },
  {
   "cell_type": "code",
   "execution_count": 3,
   "metadata": {},
   "outputs": [],
   "source": [
    "import pandas as pd"
   ]
  },
  {
   "cell_type": "code",
   "execution_count": 4,
   "metadata": {},
   "outputs": [
    {
     "name": "stdout",
     "output_type": "stream",
     "text": [
      "     X         Y\n",
      "0  1.0  6.858067\n",
      "1  2.0  4.397330\n",
      "2  3.0  5.088796\n",
      "3  4.0  3.539721\n",
      "4  5.0  4.540890\n"
     ]
    },
    {
     "data": {
      "text/plain": [
       "<matplotlib.axes._subplots.AxesSubplot at 0x121f776a0>"
      ]
     },
     "execution_count": 4,
     "metadata": {},
     "output_type": "execute_result"
    }
   ],
   "source": [
    "import numpy as np\n",
    "import seaborn as sns\n",
    "X = np.linspace(1,60,60)\n",
    "# y = np.random.randint(low=1,high=10,size=60)\n",
    "# y = 1+ 10*np.random.normal(size=60)\n",
    "y = 1+ 10*np.random.uniform(size=60)\n",
    "data = pd.DataFrame(columns=['X','Y'])\n",
    "data['X'] = X\n",
    "data['Y'] = y\n",
    "print(data.head(5))\n",
    "sns.scatterplot(x='X', y='Y', data=data)"
   ]
  },
  {
   "cell_type": "code",
   "execution_count": 5,
   "metadata": {},
   "outputs": [],
   "source": [
    "def ordinary_least_squares(X, y):\n",
    "    \n",
    "    xtx = np.dot(X.T, X) ## x-transpose times x\n",
    "    xtx_inv = np.linalg.inv(xtx) ## inverse of x-transpose times x\n",
    "    xty = np.dot(X.T, y) ## x-transpose times y\n",
    "    return np.dot(xtx_inv, xty)"
   ]
  },
  {
   "cell_type": "code",
   "execution_count": 6,
   "metadata": {},
   "outputs": [],
   "source": [
    "X = X.reshape(-1,1)\n",
    "y = y.reshape(-1,1)\n",
    "coefficients = ordinary_least_squares(X, y)\n",
    "predicted = np.dot(X, coefficients)"
   ]
  },
  {
   "cell_type": "code",
   "execution_count": 7,
   "metadata": {},
   "outputs": [],
   "source": [
    "class LinearReg:\n",
    "\n",
    "    def __init__(self, fit_intercept=True):\n",
    "        self.fit_intercept = fit_intercept\n",
    "        self.coefficients = None\n",
    "        self.intercept = None\n",
    "        \n",
    "    def fit(self, X, y):\n",
    "        # This function returns the fitted linear model \n",
    "        # input: X - predictor variables and y - response variables\n",
    "        # output: regression coefficients\n",
    "        \n",
    "        xtx = np.dot(X.T, X) ## x-transpose times x\n",
    "        xtx_inv = np.linalg.inv(xtx) ## inverse of x-transpose times x\n",
    "        xty = np.dot(X.T, y) ## x-transpose times y\n",
    "        coefficients = np.dot(xtx_inv, xty)\n",
    "        \n",
    "        if self.fit_intercept:\n",
    "            self.intercept = coefficients[0]\n",
    "            self.coefficients = coefficients[1:]\n",
    "        else:\n",
    "            self.intercept = 0\n",
    "            self.coefficients = coefficients\n",
    "            \n",
    "            \n",
    "    def predict(self, X):\n",
    "        # This function returns the predicted values\n",
    "        # input: array of dependent variables\n",
    "        # output: predicted values\n",
    "        if len(X.shape) == 1:\n",
    "            X = X.reshape(-1,1) \n",
    "            return self.intercept_ + np.dot(X, self.coef_) "
   ]
  },
  {
   "cell_type": "code",
   "execution_count": 8,
   "metadata": {},
   "outputs": [],
   "source": [
    "linreg = LinearReg()\n",
    "linreg.fit(X, y)"
   ]
  }
 ],
 "metadata": {
  "kernelspec": {
   "display_name": "Python 3",
   "language": "python",
   "name": "python3"
  },
  "language_info": {
   "codemirror_mode": {
    "name": "ipython",
    "version": 3
   },
   "file_extension": ".py",
   "mimetype": "text/x-python",
   "name": "python",
   "nbconvert_exporter": "python",
   "pygments_lexer": "ipython3",
   "version": "3.7.3"
  }
 },
 "nbformat": 4,
 "nbformat_minor": 2
}
