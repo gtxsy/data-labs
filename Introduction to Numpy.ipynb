{
 "cells": [
  {
   "cell_type": "code",
   "execution_count": 1,
   "metadata": {},
   "outputs": [
    {
     "name": "stdout",
     "output_type": "stream",
     "text": [
      "[[0.74136147 0.72813536 0.03935882 0.05685399]\n",
      " [0.55683738 0.09298074 0.04876567 0.05611838]\n",
      " [0.33485263 0.95761548 0.70433113 0.66648884]\n",
      " [0.8138952  0.36006705 0.00309397 0.50905702]\n",
      " [0.95095022 0.62157033 0.03826442 0.61274149]\n",
      " [0.5985246  0.1256595  0.0664599  0.65486276]\n",
      " [0.23555828 0.42642508 0.75105377 0.69864967]\n",
      " [0.11085185 0.96650777 0.20005389 0.12000008]\n",
      " [0.7390861  0.35096408 0.45338379 0.83371174]\n",
      " [0.97180895 0.24144401 0.95681484 0.38220045]]\n"
     ]
    }
   ],
   "source": [
    "# How to generate an array with random values\n",
    "import numpy as np\n",
    "a = np.random.random((10,4))\n",
    "print(a)"
   ]
  },
  {
   "cell_type": "code",
   "execution_count": 2,
   "metadata": {},
   "outputs": [
    {
     "name": "stdout",
     "output_type": "stream",
     "text": [
      "(10, 4)\n",
      "40\n"
     ]
    }
   ],
   "source": [
    "print(a.shape)\n",
    "print(a.size)"
   ]
  },
  {
   "cell_type": "code",
   "execution_count": 3,
   "metadata": {},
   "outputs": [
    {
     "name": "stdout",
     "output_type": "stream",
     "text": [
      "[[[0.63330077 0.92580328 0.00753988]\n",
      "  [0.4409438  0.63518793 0.77912173]]\n",
      "\n",
      " [[0.88581934 0.10006362 0.0324896 ]\n",
      "  [0.55541426 0.07100823 0.79593735]]\n",
      "\n",
      " [[0.08037573 0.68161938 0.37635631]\n",
      "  [0.29455155 0.06161955 0.52786795]]\n",
      "\n",
      " [[0.36276473 0.95190927 0.47750752]\n",
      "  [0.89522802 0.97948055 0.34548974]]\n",
      "\n",
      " [[0.94164234 0.97661775 0.7788494 ]\n",
      "  [0.53837827 0.31933458 0.82145607]]]\n"
     ]
    }
   ],
   "source": [
    "# How to generate 5 2x3 arrays\n",
    "b = np.random.random((5,2,3))\n",
    "print(b)"
   ]
  },
  {
   "cell_type": "code",
   "execution_count": 4,
   "metadata": {},
   "outputs": [
    {
     "name": "stdout",
     "output_type": "stream",
     "text": [
      "[[[[0.01953181 0.53737874 0.41611496 0.75906988 0.26393361]\n",
      "   [0.99858546 0.10896473 0.16873527 0.60810849 0.57446606]\n",
      "   [0.9338335  0.69377766 0.5599657  0.04491776 0.71591877]\n",
      "   [0.97632581 0.6132979  0.95038163 0.73819476 0.54106711]]\n",
      "\n",
      "  [[0.83052754 0.98533116 0.99663273 0.07170061 0.91994691]\n",
      "   [0.33917937 0.77338304 0.78176128 0.68539076 0.60128109]\n",
      "   [0.87628801 0.8895402  0.79955511 0.31741024 0.64396095]\n",
      "   [0.62475972 0.75019225 0.18776619 0.2405271  0.54318714]]\n",
      "\n",
      "  [[0.30803325 0.09050286 0.77538293 0.01343452 0.17961799]\n",
      "   [0.11538295 0.83744874 0.10918054 0.44658542 0.51518967]\n",
      "   [0.51216382 0.49732183 0.88273439 0.56320614 0.52901141]\n",
      "   [0.98529779 0.82820168 0.64119549 0.43465706 0.56697091]]]\n",
      "\n",
      "\n",
      " [[[0.7296989  0.84867697 0.59431097 0.06608557 0.87785399]\n",
      "   [0.92638738 0.35709963 0.7648952  0.55351697 0.27753224]\n",
      "   [0.31957628 0.21999917 0.74980481 0.25034406 0.68860037]\n",
      "   [0.86030967 0.61512254 0.97335134 0.36277151 0.29424221]]\n",
      "\n",
      "  [[0.65479794 0.68160478 0.05542649 0.24993551 0.80145749]\n",
      "   [0.45072824 0.9871632  0.83578059 0.48873719 0.09154401]\n",
      "   [0.99276959 0.42007977 0.60474997 0.28825745 0.37118974]\n",
      "   [0.69469798 0.06699177 0.20637375 0.64681872 0.58976792]]\n",
      "\n",
      "  [[0.6112788  0.67569835 0.34737668 0.34997437 0.46567881]\n",
      "   [0.95022241 0.44016567 0.26781017 0.9588634  0.71423095]\n",
      "   [0.63235205 0.4639654  0.58531765 0.0120723  0.65045734]\n",
      "   [0.31760885 0.32699631 0.11376627 0.1447979  0.64483675]]]]\n"
     ]
    }
   ],
   "source": [
    "# How to generate 2 groups of 3 4x5 arrays\n",
    "c = np.random.random((2,3,4,5))\n",
    "print(c)"
   ]
  },
  {
   "cell_type": "code",
   "execution_count": 5,
   "metadata": {},
   "outputs": [
    {
     "name": "stdout",
     "output_type": "stream",
     "text": [
      "[[0.3728587  0.79105821 0.58400004 0.50115836]\n",
      " [0.45460143 0.38248892 0.81357637 0.04661235]\n",
      " [0.43132768 0.20049226 0.7993785  0.6125389 ]\n",
      " [0.2968592  0.28264615 0.81939821 0.48166235]\n",
      " [0.73345519 0.32756946 0.06713244 0.1682817 ]\n",
      " [0.5901451  0.50538948 0.40543479 0.0696073 ]\n",
      " [0.77231239 0.77575603 0.40255715 0.58183723]\n",
      " [0.39301467 0.39828265 0.91455405 0.04523654]\n",
      " [0.25788859 0.80374857 0.30744698 0.18712105]\n",
      " [0.79609502 0.27976239 0.393336   0.9791386 ]]\n",
      "\n",
      "[0.3728587  0.79105821 0.58400004 0.50115836]\n",
      "\n",
      "[0.3728587  0.45460143 0.43132768 0.2968592  0.73345519 0.5901451\n",
      " 0.77231239 0.39301467 0.25788859 0.79609502]\n",
      "\n",
      "0.06713244262587559\n"
     ]
    }
   ],
   "source": [
    "# Extrating data from arrays\n",
    "import numpy as np\n",
    "a = np.random.random((10,4))\n",
    "print(a)\n",
    "\n",
    "# First row of matrix a\n",
    "print(\"\")\n",
    "print(a[0])\n",
    "\n",
    "# First column of matrix a\n",
    "print(\"\")\n",
    "print(a[:,0])\n",
    "\n",
    "# Value in the fifth row and third column of matrix a\n",
    "print(\"\")\n",
    "print(a[4,2])"
   ]
  },
  {
   "cell_type": "code",
   "execution_count": 6,
   "metadata": {},
   "outputs": [
    {
     "name": "stdout",
     "output_type": "stream",
     "text": [
      "First group of array c\n",
      " [[[0.01953181 0.53737874 0.41611496 0.75906988 0.26393361]\n",
      "  [0.99858546 0.10896473 0.16873527 0.60810849 0.57446606]\n",
      "  [0.9338335  0.69377766 0.5599657  0.04491776 0.71591877]\n",
      "  [0.97632581 0.6132979  0.95038163 0.73819476 0.54106711]]\n",
      "\n",
      " [[0.83052754 0.98533116 0.99663273 0.07170061 0.91994691]\n",
      "  [0.33917937 0.77338304 0.78176128 0.68539076 0.60128109]\n",
      "  [0.87628801 0.8895402  0.79955511 0.31741024 0.64396095]\n",
      "  [0.62475972 0.75019225 0.18776619 0.2405271  0.54318714]]\n",
      "\n",
      " [[0.30803325 0.09050286 0.77538293 0.01343452 0.17961799]\n",
      "  [0.11538295 0.83744874 0.10918054 0.44658542 0.51518967]\n",
      "  [0.51216382 0.49732183 0.88273439 0.56320614 0.52901141]\n",
      "  [0.98529779 0.82820168 0.64119549 0.43465706 0.56697091]]] \n",
      "\n",
      "Second subgroup of the first group: \n",
      " [[0.83052754 0.98533116 0.99663273 0.07170061 0.91994691]\n",
      " [0.33917937 0.77338304 0.78176128 0.68539076 0.60128109]\n",
      " [0.87628801 0.8895402  0.79955511 0.31741024 0.64396095]\n",
      " [0.62475972 0.75019225 0.18776619 0.2405271  0.54318714]] \n",
      "\n",
      "Third row of the second subgroup \n",
      " [0.87628801 0.8895402  0.79955511 0.31741024 0.64396095] \n",
      "\n",
      "Fourth column of the second subgroup\n",
      " [0.07170061 0.68539076 0.31741024 0.2405271 ] \n",
      "\n",
      "Value in the third row and fourth column of the second subgroup\n",
      " 0.3174102425476084\n"
     ]
    }
   ],
   "source": [
    "# First group of array c\n",
    "print(\"First group of array c\\n\",c[0],\"\\n\")\n",
    "# Second subgroup of the first group\n",
    "print(\"Second subgroup of the first group: \\n\", c[0,1],\"\\n\")\n",
    "# Third row of the second subgroup\n",
    "print(\"Third row of the second subgroup \\n\", c[0,1,2],\"\\n\")\n",
    "# Fourth column of the second subgroup\n",
    "print(\"Fourth column of the second subgroup\\n\", c[0,1,:,3],\"\\n\")\n",
    "# Value in the third row and fourth column of the second subgroup\n",
    "print(\"Value in the third row and fourth column of the second subgroup\\n\", c[0,1,2,3])"
   ]
  },
  {
   "cell_type": "code",
   "execution_count": 7,
   "metadata": {},
   "outputs": [
    {
     "name": "stdout",
     "output_type": "stream",
     "text": [
      "[[1 2 3]\n",
      " [4 5 6]\n",
      " [7 8 9]]\n"
     ]
    }
   ],
   "source": [
    "# How to convert to an numpy array\n",
    "lst_lst = [[1,2,3],[4,5,6],[7,8,9]]\n",
    "d = np.array(lst_lst)\n",
    "print(d)"
   ]
  },
  {
   "cell_type": "code",
   "execution_count": 8,
   "metadata": {},
   "outputs": [
    {
     "name": "stdout",
     "output_type": "stream",
     "text": [
      "19.02576101388321\n"
     ]
    }
   ],
   "source": [
    "# Sum of all elements in matrix a\n",
    "print(np.sum(a))"
   ]
  },
  {
   "cell_type": "code",
   "execution_count": 9,
   "metadata": {},
   "outputs": [
    {
     "name": "stdout",
     "output_type": "stream",
     "text": [
      "[5.09855797 4.74719411 5.50681455 3.67319439]\n"
     ]
    }
   ],
   "source": [
    "# Sum of each column in matrix a\n",
    "print(np.sum(a, axis=0))"
   ]
  },
  {
   "cell_type": "code",
   "execution_count": 10,
   "metadata": {},
   "outputs": [
    {
     "name": "stdout",
     "output_type": "stream",
     "text": [
      "[2.24907532 1.69727908 2.04373735 1.88056591 1.29643879 1.57057667\n",
      " 2.5324628  1.75108791 1.55620519 2.44833201]\n"
     ]
    }
   ],
   "source": [
    "# Sum of each row in matrix a\n",
    "print(np.sum(a, axis=1))"
   ]
  },
  {
   "cell_type": "code",
   "execution_count": 11,
   "metadata": {},
   "outputs": [
    {
     "data": {
      "text/plain": [
       "5.86262978695705"
      ]
     },
     "execution_count": 11,
     "metadata": {},
     "output_type": "execute_result"
    }
   ],
   "source": [
    "# Sum of all the elements in the first two groups of array b\n",
    "np.sum(b[:2])"
   ]
  },
  {
   "cell_type": "code",
   "execution_count": 12,
   "metadata": {},
   "outputs": [
    {
     "name": "stdout",
     "output_type": "stream",
     "text": [
      "0.4756440253470802\n"
     ]
    }
   ],
   "source": [
    "# Mean of all elements in matrix a\n",
    "print(np.mean(a))"
   ]
  },
  {
   "cell_type": "code",
   "execution_count": 13,
   "metadata": {},
   "outputs": [
    {
     "name": "stdout",
     "output_type": "stream",
     "text": [
      "[0.5098558  0.47471941 0.55068145 0.36731944]\n"
     ]
    }
   ],
   "source": [
    "# Mean of each column in matrix a\n",
    "print(np.mean(a, axis=0))"
   ]
  },
  {
   "cell_type": "code",
   "execution_count": 14,
   "metadata": {},
   "outputs": [
    {
     "name": "stdout",
     "output_type": "stream",
     "text": [
      "[0.56226883 0.42431977 0.51093434 0.47014148 0.3241097  0.39264417\n",
      " 0.6331157  0.43777198 0.3890513  0.612083  ]\n"
     ]
    }
   ],
   "source": [
    "# Mean of each row in matrix a\n",
    "print(np.mean(a, axis=1))"
   ]
  },
  {
   "cell_type": "code",
   "execution_count": 15,
   "metadata": {},
   "outputs": [
    {
     "data": {
      "text/plain": [
       "0.48855248224642084"
      ]
     },
     "execution_count": 15,
     "metadata": {},
     "output_type": "execute_result"
    }
   ],
   "source": [
    "# Mean of all the elements in the first two groups of array b\n",
    "np.mean(b[:2])"
   ]
  },
  {
   "cell_type": "code",
   "execution_count": 16,
   "metadata": {},
   "outputs": [
    {
     "name": "stdout",
     "output_type": "stream",
     "text": [
      "[[0.01953181 0.53737874 0.41611496 0.75906988 0.26393361]\n",
      " [0.99858546 0.10896473 0.16873527 0.60810849 0.57446606]\n",
      " [0.9338335  0.69377766 0.5599657  0.04491776 0.71591877]\n",
      " [0.97632581 0.6132979  0.95038163 0.73819476 0.54106711]]\n",
      "[[0.83052754 0.98533116 0.99663273 0.07170061 0.91994691]\n",
      " [0.33917937 0.77338304 0.78176128 0.68539076 0.60128109]\n",
      " [0.87628801 0.8895402  0.79955511 0.31741024 0.64396095]\n",
      " [0.62475972 0.75019225 0.18776619 0.2405271  0.54318714]]\n"
     ]
    }
   ],
   "source": [
    "# How to select 2 of the subarrays in c\n",
    "x = c[0,0]\n",
    "print(x)\n",
    "y = c[0,1]\n",
    "print(y)"
   ]
  },
  {
   "cell_type": "code",
   "execution_count": 17,
   "metadata": {},
   "outputs": [
    {
     "name": "stdout",
     "output_type": "stream",
     "text": [
      "[[0.85005935 1.5227099  1.41274769 0.83077049 1.18388052]\n",
      " [1.33776483 0.88234776 0.95049655 1.29349925 1.17574715]\n",
      " [1.81012151 1.58331787 1.35952082 0.36232801 1.35987972]\n",
      " [1.60108552 1.36349015 1.13814782 0.97872186 1.08425425]]\n"
     ]
    }
   ],
   "source": [
    "# Add elements of x and y together\n",
    "print(np.add(x, y))"
   ]
  },
  {
   "cell_type": "code",
   "execution_count": 18,
   "metadata": {},
   "outputs": [
    {
     "name": "stdout",
     "output_type": "stream",
     "text": [
      "[[ 0.81099574  0.44795242  0.58051777 -0.68736927  0.6560133 ]\n",
      " [-0.65940609  0.66441831  0.61302601  0.07728227  0.02681504]\n",
      " [-0.05754548  0.19576254  0.23958941  0.27249248 -0.07195783]\n",
      " [-0.35156609  0.13689435 -0.76261544 -0.49766766  0.00212003]]\n"
     ]
    }
   ],
   "source": [
    "# Subtract elements of x from elements of y\n",
    "print(np.subtract(y, x))"
   ]
  },
  {
   "cell_type": "code",
   "execution_count": 19,
   "metadata": {},
   "outputs": [
    {
     "name": "stdout",
     "output_type": "stream",
     "text": [
      "[[0.0162217  0.52949602 0.41471379 0.05442578 0.24280491]\n",
      " [0.33869959 0.08427147 0.1319107  0.41679194 0.34541558]\n",
      " [0.8183071  0.61714312 0.44772344 0.01425736 0.46102373]\n",
      " [0.60996904 0.46009133 0.17844954 0.17755584 0.2939007 ]]\n"
     ]
    }
   ],
   "source": [
    "# Multiply elements of x and y together\n",
    "print(np.multiply(x, y))"
   ]
  },
  {
   "cell_type": "code",
   "execution_count": 20,
   "metadata": {},
   "outputs": [
    {
     "name": "stdout",
     "output_type": "stream",
     "text": [
      "[[42.52179957  1.83358792  2.39508987  0.09445851  3.48552395]\n",
      " [ 0.33965983  7.09755397  4.6330639   1.12708631  1.04667819]\n",
      " [ 0.93837715  1.28216899  1.42786444  7.0664749   0.89948884]\n",
      " [ 0.63990905  1.2232102   0.19756926  0.32583149  1.00391824]]\n"
     ]
    }
   ],
   "source": [
    "# Divide elements of y by elements of x\n",
    "print(np.divide(y, x))"
   ]
  },
  {
   "cell_type": "code",
   "execution_count": null,
   "metadata": {},
   "outputs": [],
   "source": []
  }
 ],
 "metadata": {
  "kernelspec": {
   "display_name": "Python 3",
   "language": "python",
   "name": "python3"
  },
  "language_info": {
   "codemirror_mode": {
    "name": "ipython",
    "version": 3
   },
   "file_extension": ".py",
   "mimetype": "text/x-python",
   "name": "python",
   "nbconvert_exporter": "python",
   "pygments_lexer": "ipython3",
   "version": "3.7.3"
  }
 },
 "nbformat": 4,
 "nbformat_minor": 2
}
