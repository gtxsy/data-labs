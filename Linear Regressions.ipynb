{
 "cells": [
  {
   "cell_type": "code",
   "execution_count": 1,
   "metadata": {},
   "outputs": [],
   "source": [
    "import numpy as np\n",
    "\n",
    "# Example regression function to find this optimal model\n",
    "def ordinary_least_squares(X, y):\n",
    "    # This function returns the regression coefficients of a linear model\n",
    "    # input: X - predictor variables and y - response variables\n",
    "    # output: regression coefficients\n",
    "    \n",
    "    xtx = np.dot(X.T, X) ## x-transpose times x\n",
    "    xtx_inv = np.linalg.inv(xtx) ## inverse of x-transpose times x\n",
    "    xty = np.dot(X.T, y) ## x-transpose times y\n",
    "    return np.dot(xtx_inv, xty)\n",
    "\n",
    "\n",
    "# Example function call; needs list of variables of equal size for inputs X and y\n",
    "# coefficients = ordinary_least_squares(X, y)\n",
    "# predicted = np.dot(X, coefficients)"
   ]
  },
  {
   "cell_type": "code",
   "execution_count": 2,
   "metadata": {},
   "outputs": [],
   "source": [
    "# Template for a linear regression object-class\n",
    "\n",
    "class LinearReg:\n",
    "\n",
    "    def __init__(self, fit_intercept=True):\n",
    "        self.fit_intercept = fit_intercept\n",
    "        self.coefficients = None\n",
    "        self.intercept = None"
   ]
  },
  {
   "cell_type": "code",
   "execution_count": 3,
   "metadata": {},
   "outputs": [],
   "source": [
    "# Add functions to the object-class\n",
    "\n",
    "class LinearReg:\n",
    "\n",
    "    def __init__(self, fit_intercept=True):\n",
    "        self.fit_intercept = fit_intercept\n",
    "        self.coefficients = None\n",
    "        self.intercept = None\n",
    "        \n",
    "    def fit(self, X, y):\n",
    "        # This function returns the fitted linear model \n",
    "        # input: X - predictor variables and y - response variables\n",
    "        # output: regression coefficients\n",
    "        \n",
    "        xtx = np.dot(X.T, X) ## x-transpose times x\n",
    "        xtx_inv = np.linalg.inv(xtx) ## inverse of x-transpose times x\n",
    "        xty = np.dot(X.T, y) ## x-transpose times y\n",
    "        coefficients = np.dot(xtx_inv, xty)\n",
    "        \n",
    "        if self.fit_intercept:\n",
    "            self.intercept = coefficients[0]\n",
    "            self.coefficients = coefficients[1:]\n",
    "        else:\n",
    "            self.intercept = 0\n",
    "            self.coefficients = coefficients\n",
    "            \n",
    "            \n",
    "    def predict(self, X):\n",
    "        # This function returns the predicted values\n",
    "        # input: array of dependent variables\n",
    "        # output: predicted values\n",
    "        if len(X.shape) == 1:\n",
    "            X = X.reshape(-1,1) \n",
    "            return self.intercept_ + np.dot(X, self.coef_) "
   ]
  },
  {
   "cell_type": "code",
   "execution_count": 4,
   "metadata": {},
   "outputs": [],
   "source": [
    "# Create an instance of a class\n",
    "linreg = LinearReg()\n",
    "# linreg.fit(X, y)"
   ]
  }
 ],
 "metadata": {
  "kernelspec": {
   "display_name": "Python 3",
   "language": "python",
   "name": "python3"
  },
  "language_info": {
   "codemirror_mode": {
    "name": "ipython",
    "version": 3
   },
   "file_extension": ".py",
   "mimetype": "text/x-python",
   "name": "python",
   "nbconvert_exporter": "python",
   "pygments_lexer": "ipython3",
   "version": "3.7.3"
  }
 },
 "nbformat": 4,
 "nbformat_minor": 2
}
