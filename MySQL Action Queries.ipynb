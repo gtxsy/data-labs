{
 "cells": [
  {
   "cell_type": "code",
   "execution_count": null,
   "metadata": {},
   "outputs": [],
   "source": [
    "# Example table\n",
    "CREATE TABLE publications.store_sales_summary\n",
    "SELECT stores.stor_id AS StoreID, stores.stor_name AS Store, COUNT(DISTINCT(ord_num)) AS Orders, COUNT(title_id) AS Items, SUM(qty) AS Qty\n",
    "FROM publications.sales sales\n",
    "INNER JOIN publications.stores stores ON stores.stor_id = sales.stor_id\n",
    "GROUP BY StoreID, Store;\n",
    "\n",
    "SELECT *\n",
    "FROM publications.store_sales_summary;"
   ]
  },
  {
   "cell_type": "code",
   "execution_count": null,
   "metadata": {},
   "outputs": [],
   "source": [
    "# How to DELETE records (aka rows) that have Qty < 80\n",
    "DELETE FROM publications.store_sales_summary\n",
    "WHERE Qty < 80;\n",
    "\n",
    "SELECT *\n",
    "FROM publications.store_sales_summary;"
   ]
  },
  {
   "cell_type": "code",
   "execution_count": null,
   "metadata": {},
   "outputs": [],
   "source": [
    "# How to DELETE all records from a table, but still preserve columns as an empty table\n",
    "DELETE FROM publications.store_sales_summary;\n",
    "\n",
    "SELECT *\n",
    "FROM publications.store_sales_summary;"
   ]
  },
  {
   "cell_type": "code",
   "execution_count": null,
   "metadata": {},
   "outputs": [],
   "source": [
    "# How to re-populate table based on the query used to create the table (see Block #1)\n",
    "INSERT INTO publications.store_sales_summary\n",
    "SELECT stores.stor_id AS StoreID, stores.stor_name AS Store, COUNT(DISTINCT(ord_num)) AS Orders, COUNT(title_id) AS Items, SUM(qty) AS Qty\n",
    "FROM publications.sales sales\n",
    "INNER JOIN publications.stores stores ON stores.stor_id = sales.stor_id\n",
    "GROUP BY StoreID, Store;\n",
    "\n",
    "SELECT *\n",
    "FROM publications.store_sales_summary;"
   ]
  },
  {
   "cell_type": "code",
   "execution_count": null,
   "metadata": {},
   "outputs": [],
   "source": [
    "# How to increment all quantities in Qty by 5\n",
    "UPDATE publications.store_sales_summary\n",
    "SET Qty = Qty + 5;\n",
    "\n",
    "SELECT *\n",
    "FROM publications.store_sales_summary;"
   ]
  },
  {
   "cell_type": "code",
   "execution_count": null,
   "metadata": {},
   "outputs": [],
   "source": [
    "# How to increment all quantities in Qty by 10, IF given Qty < 100\n",
    "UPDATE publications.store_sales_summary\n",
    "SET Qty = Qty + 10\n",
    "WHERE Qty < 100;\n",
    "\n",
    "SELECT *\n",
    "FROM publications.store_sales_summary;"
   ]
  }
 ],
 "metadata": {
  "kernelspec": {
   "display_name": "Python 3",
   "language": "python",
   "name": "python3"
  },
  "language_info": {
   "codemirror_mode": {
    "name": "ipython",
    "version": 3
   },
   "file_extension": ".py",
   "mimetype": "text/x-python",
   "name": "python",
   "nbconvert_exporter": "python",
   "pygments_lexer": "ipython3",
   "version": "3.7.3"
  }
 },
 "nbformat": 4,
 "nbformat_minor": 2
}
