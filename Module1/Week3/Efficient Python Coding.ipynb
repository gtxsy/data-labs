{
 "cells": [
  {
   "cell_type": "code",
   "execution_count": null,
   "metadata": {},
   "outputs": [],
   "source": [
    "import time\n",
    "\n",
    "# AVOID:\n",
    "t0 = time.time()\n",
    "\n",
    "list = [\"a\", \"b\", \"c\"]\n",
    "s = \"\"\n",
    "for substring in list:\n",
    "    s += substring\n",
    "    \n",
    "t1 = time.time()\n",
    "print(t1-t0)"
   ]
  },
  {
   "cell_type": "code",
   "execution_count": null,
   "metadata": {},
   "outputs": [],
   "source": [
    "# USE:\n",
    "s = \"\".join(list)"
   ]
  },
  {
   "cell_type": "code",
   "execution_count": null,
   "metadata": {},
   "outputs": [],
   "source": [
    "# AVOID:\n",
    "out = \"<html>\" + head + prologue + query + tail + \"</html>\"\n",
    "\n",
    "# USE:\n",
    "out = \"<html>%s%s%s%s</html>\" % (head, prologue, query, tail)"
   ]
  },
  {
   "cell_type": "code",
   "execution_count": null,
   "metadata": {},
   "outputs": [],
   "source": [
    "# AVOID:\n",
    "newlist = []\n",
    "for word in oldlist:\n",
    "    newlist.append(word.upper())\n",
    "    \n",
    "# USE:\n",
    "newlist = map(str.upper, oldlist)\n",
    "# OR:\n",
    "newlist = [s.upper() for s in oldlist]"
   ]
  },
  {
   "cell_type": "code",
   "execution_count": null,
   "metadata": {},
   "outputs": [],
   "source": [
    "# AVOID:\n",
    "results = []\n",
    "for i in range(10):\n",
    "    for j in range(i):\n",
    "        results.append((i, j))\n",
    "        \n",
    "# USE:\n",
    "results = [(i, j)\n",
    "           for i in range(10)\n",
    "           for j in range(i)]"
   ]
  }
 ],
 "metadata": {
  "kernelspec": {
   "display_name": "Python 3",
   "language": "python",
   "name": "python3"
  },
  "language_info": {
   "codemirror_mode": {
    "name": "ipython",
    "version": 3
   },
   "file_extension": ".py",
   "mimetype": "text/x-python",
   "name": "python",
   "nbconvert_exporter": "python",
   "pygments_lexer": "ipython3",
   "version": "3.7.3"
  }
 },
 "nbformat": 4,
 "nbformat_minor": 2
}
