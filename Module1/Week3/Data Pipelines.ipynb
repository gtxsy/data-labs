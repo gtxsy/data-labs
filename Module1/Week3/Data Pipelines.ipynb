{
 "cells": [
  {
   "cell_type": "code",
   "execution_count": 1,
   "metadata": {},
   "outputs": [],
   "source": [
    "import pandas as pd\n",
    "\n",
    "# 1. Import data\n",
    "data = pd.read_csv('./data/vehicles.csv')"
   ]
  },
  {
   "cell_type": "code",
   "execution_count": 2,
   "metadata": {},
   "outputs": [],
   "source": [
    "# 2. Clean data\n",
    "year = 2016\n",
    "filtered = data[data['Year']==year] #filter by year"
   ]
  },
  {
   "cell_type": "code",
   "execution_count": 3,
   "metadata": {},
   "outputs": [
    {
     "data": {
      "text/html": [
       "<div>\n",
       "<style scoped>\n",
       "    .dataframe tbody tr th:only-of-type {\n",
       "        vertical-align: middle;\n",
       "    }\n",
       "\n",
       "    .dataframe tbody tr th {\n",
       "        vertical-align: top;\n",
       "    }\n",
       "\n",
       "    .dataframe thead th {\n",
       "        text-align: right;\n",
       "    }\n",
       "</style>\n",
       "<table border=\"1\" class=\"dataframe\">\n",
       "  <thead>\n",
       "    <tr style=\"text-align: right;\">\n",
       "      <th></th>\n",
       "      <th>Make</th>\n",
       "      <th>Combined MPG</th>\n",
       "    </tr>\n",
       "  </thead>\n",
       "  <tbody>\n",
       "    <tr>\n",
       "      <th>42</th>\n",
       "      <td>smart</td>\n",
       "      <td>35.500000</td>\n",
       "    </tr>\n",
       "    <tr>\n",
       "      <th>27</th>\n",
       "      <td>Mazda</td>\n",
       "      <td>30.625000</td>\n",
       "    </tr>\n",
       "    <tr>\n",
       "      <th>37</th>\n",
       "      <td>Scion</td>\n",
       "      <td>30.000000</td>\n",
       "    </tr>\n",
       "    <tr>\n",
       "      <th>15</th>\n",
       "      <td>Honda</td>\n",
       "      <td>29.310345</td>\n",
       "    </tr>\n",
       "    <tr>\n",
       "      <th>25</th>\n",
       "      <td>MINI</td>\n",
       "      <td>28.176471</td>\n",
       "    </tr>\n",
       "  </tbody>\n",
       "</table>\n",
       "</div>"
      ],
      "text/plain": [
       "     Make  Combined MPG\n",
       "42  smart     35.500000\n",
       "27  Mazda     30.625000\n",
       "37  Scion     30.000000\n",
       "15  Honda     29.310345\n",
       "25   MINI     28.176471"
      ]
     },
     "execution_count": 3,
     "metadata": {},
     "output_type": "execute_result"
    }
   ],
   "source": [
    "# 3. Analuyze data\n",
    "grouped = filtered.groupby('Make').agg({'Combined MPG':'mean'}).reset_index()\n",
    "results = grouped.sort_values('Combined MPG', ascending=False).head(5)\n",
    "results ## Get top 5 brands, by average MPG"
   ]
  },
  {
   "cell_type": "code",
   "execution_count": 4,
   "metadata": {},
   "outputs": [
    {
     "data": {
      "text/plain": [
       "<Figure size 1500x800 with 1 Axes>"
      ]
     },
     "execution_count": 4,
     "metadata": {},
     "output_type": "execute_result"
    }
   ],
   "source": [
    "import matplotlib.pyplot as plt\n",
    "import seaborn as sns\n",
    "\n",
    "# 4. Visualize data\n",
    "title = 'Top 10 Manufacturers by Fuel Efficiency ' + str(year)\n",
    "\n",
    "fig, ax = plt.subplots(figsize=(15,8))\n",
    "barchart = sns.barplot(data=results, x='Make', y='Combined MPG')\n",
    "plt.title(title + \"\\n\", fontsize=16)\n",
    "barchart.get_figure()"
   ]
  },
  {
   "cell_type": "code",
   "execution_count": 5,
   "metadata": {},
   "outputs": [],
   "source": [
    "# 5. Export the data\n",
    "fig = barchart.get_figure()\n",
    "fig.savefig(title + '.png')"
   ]
  },
  {
   "cell_type": "code",
   "execution_count": 6,
   "metadata": {},
   "outputs": [
    {
     "name": "stdout",
     "output_type": "stream",
     "text": [
      "Enter the year: 2012\n"
     ]
    },
    {
     "data": {
      "image/png": "[encoded data removed]",
      "text/plain": [
       "<Figure size 1080x576 with 1 Axes>"
      ]
     },
     "metadata": {
      "needs_background": "light"
     },
     "output_type": "display_data"
    }
   ],
   "source": [
    "# How to automate the pipeline\n",
    "\n",
    "import pandas as pd\n",
    "import matplotlib.pyplot as plt\n",
    "import seaborn as sns\n",
    "\n",
    "year = int(input('Enter the year: '))\n",
    "title = 'Top 10 Manufacturers by Fuel Efficiency ' + str(year)\n",
    "\n",
    "def acquire():\n",
    "    data = pd.read_csv('./data/vehicles.csv')\n",
    "    return data\n",
    "\n",
    "def wrangle(df):\n",
    "    filtered = data[data['Year']==year]\n",
    "    return filtered\n",
    "\n",
    "def analyze(df):\n",
    "    grouped = filtered.groupby('Make').agg({'Combined MPG':'mean'}).reset_index()\n",
    "    results = grouped.sort_values('Combined MPG', ascending=False).head(10)\n",
    "    return results\n",
    "\n",
    "def visualize(df):\n",
    "    fig, ax = plt.subplots(figsize=(15,8))\n",
    "    barchart = sns.barplot(data=results, x='Make', y='Combined MPG')\n",
    "    plt.title(title + \"\\n\", fontsize=16)\n",
    "    return barchart\n",
    "\n",
    "def save_viz(barchart):\n",
    "    fig = barchart.get_figure()\n",
    "    fig.savefig(title + '.png')\n",
    "\n",
    "if __name__ == '__main__':\n",
    "    data = acquire()\n",
    "    filtered = wrangle(data)\n",
    "    results = analyze(filtered)\n",
    "    barchart = visualize(results)\n",
    "    save_viz(barchart)"
   ]
  },
  {
   "cell_type": "code",
   "execution_count": null,
   "metadata": {},
   "outputs": [],
   "source": []
  }
 ],
 "metadata": {
  "kernelspec": {
   "display_name": "Python 3",
   "language": "python",
   "name": "python3"
  },
  "language_info": {
   "codemirror_mode": {
    "name": "ipython",
    "version": 3
   },
   "file_extension": ".py",
   "mimetype": "text/x-python",
   "name": "python",
   "nbconvert_exporter": "python",
   "pygments_lexer": "ipython3",
   "version": "3.7.3"
  }
 },
 "nbformat": 4,
 "nbformat_minor": 2
}
