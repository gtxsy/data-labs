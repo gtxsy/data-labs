{
 "cells": [
  {
   "cell_type": "code",
   "execution_count": 1,
   "metadata": {},
   "outputs": [],
   "source": [
    "fib=[0,1]"
   ]
  },
  {
   "cell_type": "code",
   "execution_count": 2,
   "metadata": {},
   "outputs": [
    {
     "name": "stdout",
     "output_type": "stream",
     "text": [
      "[0, 1]\n"
     ]
    }
   ],
   "source": [
    "print(fib)"
   ]
  },
  {
   "cell_type": "code",
   "execution_count": 3,
   "metadata": {},
   "outputs": [],
   "source": [
    "x=fib[0]\n",
    "y=fib[1]"
   ]
  },
  {
   "cell_type": "code",
   "execution_count": 4,
   "metadata": {},
   "outputs": [
    {
     "name": "stdout",
     "output_type": "stream",
     "text": [
      "[0, 1]\n"
     ]
    }
   ],
   "source": [
    "print(fib)"
   ]
  },
  {
   "cell_type": "code",
   "execution_count": 5,
   "metadata": {},
   "outputs": [
    {
     "name": "stdout",
     "output_type": "stream",
     "text": [
      "[0, 1, 1, 2, 3, 5, 8, 13, 21, 34, 55, 89, 144, 233, 377, 610, 987, 1597, 2584, 4181, 6765, 10946, 17711, 28657, 46368, 75025, 121393, 196418, 317811, 514229, 832040, 1346269, 2178309, 3524578, 5702887, 9227465, 14930352, 24157817, 39088169, 63245986, 102334155, 165580141, 267914296, 433494437, 701408733, 1134903170, 1836311903, 2971215073, 4807526976, 7778742049, 12586269025, 20365011074, 32951280099, 53316291173, 86267571272, 139583862445, 225851433717, 365435296162, 591286729879, 956722026041, 1548008755920, 2504730781961, 4052739537881, 6557470319842, 10610209857723, 17167680177565, 27777890035288, 44945570212853, 72723460248141, 117669030460994, 190392490709135, 308061521170129, 498454011879264, 806515533049393, 1304969544928657, 2111485077978050, 3416454622906707, 5527939700884757, 8944394323791464, 14472334024676221, 23416728348467685, 37889062373143906, 61305790721611591, 99194853094755497, 160500643816367088, 259695496911122585, 420196140727489673, 679891637638612258, 1100087778366101931, 1779979416004714189, 2880067194370816120, 4660046610375530309, 7540113804746346429, 12200160415121876738, 19740274219868223167, 31940434634990099905, 51680708854858323072, 83621143489848422977, 135301852344706746049, 218922995834555169026]\n"
     ]
    }
   ],
   "source": [
    "for i in range(2,100):\n",
    "    z=x+y\n",
    "    fib.append(z)\n",
    "    #print(z/y)\n",
    "    x=y\n",
    "    y=z\n",
    "print(fib)"
   ]
  },
  {
   "cell_type": "code",
   "execution_count": 6,
   "metadata": {},
   "outputs": [
    {
     "name": "stdout",
     "output_type": "stream",
     "text": [
      "100\n"
     ]
    }
   ],
   "source": [
    "print(len(fib))"
   ]
  },
  {
   "cell_type": "code",
   "execution_count": 7,
   "metadata": {},
   "outputs": [
    {
     "name": "stdout",
     "output_type": "stream",
     "text": [
      "Enter temperature: 100\n",
      "Temperature in Celsius: 37.77777777777778\n"
     ]
    }
   ],
   "source": [
    "x=input(\"Enter temperature: \")\n",
    "y=(float(x)-32)*5/9\n",
    "print(\"Temperature in Celsius: %s\" %y)"
   ]
  },
  {
   "cell_type": "code",
   "execution_count": 8,
   "metadata": {},
   "outputs": [
    {
     "name": "stdout",
     "output_type": "stream",
     "text": [
      "Enter temperature: 100\n",
      "Temperature in Farenheit: 237.6\n"
     ]
    }
   ],
   "source": [
    "x=input(\"Enter temperature: \")\n",
    "y=(float(x)+32)*9/5\n",
    "print(\"Temperature in Farenheit: %s\" %y)"
   ]
  },
  {
   "cell_type": "code",
   "execution_count": 9,
   "metadata": {},
   "outputs": [],
   "source": [
    "# Taken from https://stackoverflow.com/questions/40097590/detect-whether-a-python-string-is-a-number-or-a-letter/40097699\n",
    "def is_number(n):\n",
    "    try:\n",
    "        float(n)   # Type-casting the string to `float`.\n",
    "                   # If string is not a valid `float`, \n",
    "                   # it'll raise `ValueError` exception\n",
    "    except ValueError:\n",
    "        return False\n",
    "    return True"
   ]
  },
  {
   "cell_type": "code",
   "execution_count": 14,
   "metadata": {},
   "outputs": [
    {
     "name": "stdout",
     "output_type": "stream",
     "text": [
      "Enter temperature: hello\n",
      "ERROR: Wrong input. Enter a valid number.\n",
      "Enter temperature: 300\n",
      "Is this temperature Celsius or Fahrenheit? 100\n",
      "ERROR: Wrong input. Enter either Celsius or Fahrenheit.\n",
      "Is this temperature Celsius or Fahrenheit? Celsius\n",
      "Temperature in Fahrenheit: 597.6\n"
     ]
    }
   ],
   "source": [
    "# x (must be a number) is for the temperature input\n",
    "# y (must be \"Celsius\" or \"Fahrenheit\") is for the unit input\n",
    "# z is for the newly converted temperature value\n",
    "\n",
    "x=input(\"Enter temperature: \")\n",
    "while (not is_number(x)):\n",
    "    print (\"ERROR: Wrong input. Enter a valid number.\")\n",
    "    x=input(\"Enter temperature: \")\n",
    "y=input(\"Is this temperature Celsius or Fahrenheit? \")\n",
    "while((y.lower() != 'celsius') and (y.lower() != 'fahrenheit')):\n",
    "    print (\"ERROR: Wrong input. Enter either Celsius or Fahrenheit.\")\n",
    "    y=input(\"Is this temperature Celsius or Fahrenheit? \")\n",
    "if (y.lower() == 'celsius'):\n",
    "    z=(float(x)+32)*9/5\n",
    "    print(\"Temperature in Fahrenheit: %s\" %z)\n",
    "else:\n",
    "    z=(float(x)-32)*5/9\n",
    "    print(\"Temperature in Celsius: %s\" %z)"
   ]
  },
  {
   "cell_type": "code",
   "execution_count": null,
   "metadata": {},
   "outputs": [],
   "source": []
  }
 ],
 "metadata": {
  "kernelspec": {
   "display_name": "Python 3",
   "language": "python",
   "name": "python3"
  },
  "language_info": {
   "codemirror_mode": {
    "name": "ipython",
    "version": 3
   },
   "file_extension": ".py",
   "mimetype": "text/x-python",
   "name": "python",
   "nbconvert_exporter": "python",
   "pygments_lexer": "ipython3",
   "version": "3.7.3"
  }
 },
 "nbformat": 4,
 "nbformat_minor": 2
}
