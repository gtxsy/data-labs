{
 "cells": [
  {
   "cell_type": "code",
   "execution_count": 1,
   "metadata": {},
   "outputs": [
    {
     "name": "stdout",
     "output_type": "stream",
     "text": [
      "[[0.13783359 0.09174882 0.55548487 0.80314528]\n",
      " [0.27260739 0.37680211 0.25326532 0.31555749]\n",
      " [0.86139866 0.75802407 0.4562523  0.86928129]\n",
      " [0.6739422  0.46224695 0.8240037  0.17281529]\n",
      " [0.31324577 0.24255868 0.75541837 0.0334906 ]\n",
      " [0.10871358 0.62668463 0.02306681 0.15221024]\n",
      " [0.02952647 0.07346856 0.16676781 0.95657553]\n",
      " [0.88849367 0.28856313 0.39292819 0.45789728]\n",
      " [0.96687232 0.52594457 0.3813868  0.55756353]\n",
      " [0.55163159 0.28608797 0.16827887 0.73841505]]\n"
     ]
    }
   ],
   "source": [
    "# How to generate an array with random values\n",
    "import numpy as np\n",
    "a = np.random.random((10,4))\n",
    "print(a)"
   ]
  },
  {
   "cell_type": "code",
   "execution_count": 2,
   "metadata": {},
   "outputs": [
    {
     "name": "stdout",
     "output_type": "stream",
     "text": [
      "(10, 4)\n",
      "40\n"
     ]
    }
   ],
   "source": [
    "print(a.shape)\n",
    "print(a.size)"
   ]
  },
  {
   "cell_type": "code",
   "execution_count": 3,
   "metadata": {},
   "outputs": [
    {
     "name": "stdout",
     "output_type": "stream",
     "text": [
      "[[[0.09087794 0.75487064 0.43154276]\n",
      "  [0.24664773 0.49776044 0.87807686]]\n",
      "\n",
      " [[0.6501176  0.90986512 0.46607744]\n",
      "  [0.95698791 0.45666613 0.51660373]]\n",
      "\n",
      " [[0.64691013 0.09716121 0.28345211]\n",
      "  [0.74435159 0.94496761 0.60768092]]\n",
      "\n",
      " [[0.97656939 0.48197632 0.04105149]\n",
      "  [0.63499819 0.27318634 0.34830736]]\n",
      "\n",
      " [[0.40183037 0.12521682 0.96002654]\n",
      "  [0.81711262 0.25638629 0.44651579]]]\n"
     ]
    }
   ],
   "source": [
    "# How to generate 5 2x3 arrays\n",
    "b = np.random.random((5,2,3))\n",
    "print(b)"
   ]
  },
  {
   "cell_type": "code",
   "execution_count": 4,
   "metadata": {},
   "outputs": [
    {
     "name": "stdout",
     "output_type": "stream",
     "text": [
      "[[[[0.41177607 0.29256088 0.5475865  0.77963427 0.55537762]\n",
      "   [0.97886569 0.96417632 0.13770608 0.03171314 0.81590497]\n",
      "   [0.1657241  0.96622354 0.49402007 0.20297234 0.22025138]\n",
      "   [0.28582039 0.2546985  0.20890528 0.50319951 0.38573047]]\n",
      "\n",
      "  [[0.12211646 0.10559302 0.97295085 0.25081983 0.26493342]\n",
      "   [0.88649854 0.38116506 0.21195788 0.87103421 0.10402169]\n",
      "   [0.89199226 0.57537511 0.3978799  0.02883195 0.02640451]\n",
      "   [0.50840109 0.79235212 0.28700581 0.4728338  0.52653053]]\n",
      "\n",
      "  [[0.06208369 0.62248168 0.47056476 0.24458688 0.87001575]\n",
      "   [0.61132999 0.92409468 0.11549631 0.51565422 0.5688176 ]\n",
      "   [0.96233277 0.30293922 0.3169118  0.28666369 0.30435082]\n",
      "   [0.62521465 0.58158661 0.1530493  0.27983473 0.82962203]]]\n",
      "\n",
      "\n",
      " [[[0.04595218 0.6280835  0.17668911 0.6412677  0.04599761]\n",
      "   [0.7402093  0.7318117  0.43354354 0.13631306 0.53130421]\n",
      "   [0.24619652 0.44663002 0.80651936 0.89743432 0.16540402]\n",
      "   [0.98537351 0.69337328 0.21817173 0.1674522  0.94656373]]\n",
      "\n",
      "  [[0.38666347 0.61053156 0.90734657 0.35973695 0.22046623]\n",
      "   [0.05061104 0.09901696 0.30059887 0.42744644 0.46259695]\n",
      "   [0.50880642 0.15163402 0.73878751 0.29194502 0.24964269]\n",
      "   [0.12405933 0.39328357 0.18719698 0.1129805  0.65469893]]\n",
      "\n",
      "  [[0.19491532 0.99999357 0.7336292  0.46327764 0.40524431]\n",
      "   [0.26930717 0.2029884  0.90244017 0.90010814 0.71286964]\n",
      "   [0.72996467 0.24519598 0.14048991 0.57196155 0.43459348]\n",
      "   [0.49077243 0.33799398 0.65484234 0.99622557 0.14431992]]]]\n"
     ]
    }
   ],
   "source": [
    "# How to generate 2 groups of 3 4x5 arrays\n",
    "c = np.random.random((2,3,4,5))\n",
    "print(c)"
   ]
  },
  {
   "cell_type": "code",
   "execution_count": 5,
   "metadata": {},
   "outputs": [
    {
     "name": "stdout",
     "output_type": "stream",
     "text": [
      "[[0.41721206 0.1791395  0.42124061 0.72925024]\n",
      " [0.72513656 0.33337236 0.04205863 0.65050874]\n",
      " [0.95340533 0.1555116  0.7931375  0.42633059]\n",
      " [0.45912577 0.37187874 0.97381171 0.49040393]\n",
      " [0.59846198 0.70281015 0.10379757 0.49907505]\n",
      " [0.45649342 0.81905074 0.95861381 0.65007691]\n",
      " [0.69150323 0.69205224 0.47023966 0.46789353]\n",
      " [0.51713435 0.90870785 0.42438886 0.54517012]\n",
      " [0.74187119 0.73293874 0.54651895 0.93058312]\n",
      " [0.656605   0.78319181 0.0812197  0.38186573]]\n",
      "\n",
      "[0.41721206 0.1791395  0.42124061 0.72925024]\n",
      "\n",
      "[0.41721206 0.72513656 0.95340533 0.45912577 0.59846198 0.45649342\n",
      " 0.69150323 0.51713435 0.74187119 0.656605  ]\n",
      "\n",
      "0.10379756913628124\n"
     ]
    }
   ],
   "source": [
    "# Extrating data from arrays\n",
    "import numpy as np\n",
    "a = np.random.random((10,4))\n",
    "print(a)\n",
    "\n",
    "# First row of matrix a\n",
    "print(\"\")\n",
    "print(a[0])\n",
    "\n",
    "# First column of matrix a\n",
    "print(\"\")\n",
    "print(a[:,0])\n",
    "\n",
    "# Value in the fifth row and third column of matrix a\n",
    "print(\"\")\n",
    "print(a[4,2])"
   ]
  },
  {
   "cell_type": "code",
   "execution_count": 6,
   "metadata": {},
   "outputs": [
    {
     "name": "stdout",
     "output_type": "stream",
     "text": [
      "First group of array c\n",
      " [[[0.41177607 0.29256088 0.5475865  0.77963427 0.55537762]\n",
      "  [0.97886569 0.96417632 0.13770608 0.03171314 0.81590497]\n",
      "  [0.1657241  0.96622354 0.49402007 0.20297234 0.22025138]\n",
      "  [0.28582039 0.2546985  0.20890528 0.50319951 0.38573047]]\n",
      "\n",
      " [[0.12211646 0.10559302 0.97295085 0.25081983 0.26493342]\n",
      "  [0.88649854 0.38116506 0.21195788 0.87103421 0.10402169]\n",
      "  [0.89199226 0.57537511 0.3978799  0.02883195 0.02640451]\n",
      "  [0.50840109 0.79235212 0.28700581 0.4728338  0.52653053]]\n",
      "\n",
      " [[0.06208369 0.62248168 0.47056476 0.24458688 0.87001575]\n",
      "  [0.61132999 0.92409468 0.11549631 0.51565422 0.5688176 ]\n",
      "  [0.96233277 0.30293922 0.3169118  0.28666369 0.30435082]\n",
      "  [0.62521465 0.58158661 0.1530493  0.27983473 0.82962203]]] \n",
      "\n",
      "Second subgroup of the first group: \n",
      " [[0.12211646 0.10559302 0.97295085 0.25081983 0.26493342]\n",
      " [0.88649854 0.38116506 0.21195788 0.87103421 0.10402169]\n",
      " [0.89199226 0.57537511 0.3978799  0.02883195 0.02640451]\n",
      " [0.50840109 0.79235212 0.28700581 0.4728338  0.52653053]] \n",
      "\n",
      "Third row of the second subgroup \n",
      " [0.89199226 0.57537511 0.3978799  0.02883195 0.02640451] \n",
      "\n",
      "Fourth column of the second subgroup\n",
      " [0.25081983 0.87103421 0.02883195 0.4728338 ] \n",
      "\n",
      "Value in the third row and fourth column of the second subgroup\n",
      " 0.02883195440305586\n"
     ]
    }
   ],
   "source": [
    "# First group of array c\n",
    "print(\"First group of array c\\n\",c[0],\"\\n\")\n",
    "# Second subgroup of the first group\n",
    "print(\"Second subgroup of the first group: \\n\", c[0,1],\"\\n\")\n",
    "# Third row of the second subgroup\n",
    "print(\"Third row of the second subgroup \\n\", c[0,1,2],\"\\n\")\n",
    "# Fourth column of the second subgroup\n",
    "print(\"Fourth column of the second subgroup\\n\", c[0,1,:,3],\"\\n\")\n",
    "# Value in the third row and fourth column of the second subgroup\n",
    "print(\"Value in the third row and fourth column of the second subgroup\\n\", c[0,1,2,3])"
   ]
  },
  {
   "cell_type": "code",
   "execution_count": 7,
   "metadata": {},
   "outputs": [
    {
     "name": "stdout",
     "output_type": "stream",
     "text": [
      "[[1 2 3]\n",
      " [4 5 6]\n",
      " [7 8 9]]\n"
     ]
    }
   ],
   "source": [
    "# How to convert to an numpy array\n",
    "lst_lst = [[1,2,3],[4,5,6],[7,8,9]]\n",
    "d = np.array(lst_lst)\n",
    "print(d)"
   ]
  },
  {
   "cell_type": "code",
   "execution_count": 8,
   "metadata": {},
   "outputs": [
    {
     "name": "stdout",
     "output_type": "stream",
     "text": [
      "22.481787546336673\n"
     ]
    }
   ],
   "source": [
    "# Sum of all elements in matrix a\n",
    "print(np.sum(a))"
   ]
  },
  {
   "cell_type": "code",
   "execution_count": 9,
   "metadata": {},
   "outputs": [
    {
     "name": "stdout",
     "output_type": "stream",
     "text": [
      "[6.21694889 5.67865371 4.815027   5.77115795]\n"
     ]
    }
   ],
   "source": [
    "# Sum of each column in matrix a\n",
    "print(np.sum(a, axis=0))"
   ]
  },
  {
   "cell_type": "code",
   "execution_count": 10,
   "metadata": {},
   "outputs": [
    {
     "name": "stdout",
     "output_type": "stream",
     "text": [
      "[1.7468424  1.75107629 2.32838501 2.29522015 1.90414475 2.88423488\n",
      " 2.32168865 2.39540118 2.95191201 1.90288224]\n"
     ]
    }
   ],
   "source": [
    "# Sum of each row in matrix a\n",
    "print(np.sum(a, axis=1))"
   ]
  },
  {
   "cell_type": "code",
   "execution_count": 11,
   "metadata": {},
   "outputs": [
    {
     "data": {
      "text/plain": [
       "6.856094281809005"
      ]
     },
     "execution_count": 11,
     "metadata": {},
     "output_type": "execute_result"
    }
   ],
   "source": [
    "# Sum of all the elements in the first two groups of array b\n",
    "np.sum(b[:2])"
   ]
  },
  {
   "cell_type": "code",
   "execution_count": 12,
   "metadata": {},
   "outputs": [
    {
     "name": "stdout",
     "output_type": "stream",
     "text": [
      "0.5620446886584168\n"
     ]
    }
   ],
   "source": [
    "# Mean of all elements in matrix a\n",
    "print(np.mean(a))"
   ]
  },
  {
   "cell_type": "code",
   "execution_count": 13,
   "metadata": {},
   "outputs": [
    {
     "name": "stdout",
     "output_type": "stream",
     "text": [
      "[0.62169489 0.56786537 0.4815027  0.5771158 ]\n"
     ]
    }
   ],
   "source": [
    "# Mean of each column in matrix a\n",
    "print(np.mean(a, axis=0))"
   ]
  },
  {
   "cell_type": "code",
   "execution_count": 15,
   "metadata": {},
   "outputs": [
    {
     "name": "stdout",
     "output_type": "stream",
     "text": [
      "[0.4367106  0.43776907 0.58209625 0.57380504 0.47603619 0.72105872\n",
      " 0.58042216 0.59885029 0.737978   0.47572056]\n"
     ]
    }
   ],
   "source": [
    "# Mean of each row in matrix a\n",
    "print(np.mean(a, axis=1))"
   ]
  },
  {
   "cell_type": "code",
   "execution_count": 16,
   "metadata": {},
   "outputs": [
    {
     "data": {
      "text/plain": [
       "0.5713411901507505"
      ]
     },
     "execution_count": 16,
     "metadata": {},
     "output_type": "execute_result"
    }
   ],
   "source": [
    "# Mean of all the elements in the first two groups of array b\n",
    "np.mean(b[:2])"
   ]
  },
  {
   "cell_type": "code",
   "execution_count": 18,
   "metadata": {},
   "outputs": [
    {
     "name": "stdout",
     "output_type": "stream",
     "text": [
      "[[0.41177607 0.29256088 0.5475865  0.77963427 0.55537762]\n",
      " [0.97886569 0.96417632 0.13770608 0.03171314 0.81590497]\n",
      " [0.1657241  0.96622354 0.49402007 0.20297234 0.22025138]\n",
      " [0.28582039 0.2546985  0.20890528 0.50319951 0.38573047]]\n",
      "[[0.12211646 0.10559302 0.97295085 0.25081983 0.26493342]\n",
      " [0.88649854 0.38116506 0.21195788 0.87103421 0.10402169]\n",
      " [0.89199226 0.57537511 0.3978799  0.02883195 0.02640451]\n",
      " [0.50840109 0.79235212 0.28700581 0.4728338  0.52653053]]\n"
     ]
    }
   ],
   "source": [
    "# How to select 2 of the subarrays in c\n",
    "x = c[0,0]\n",
    "print(x)\n",
    "y = c[0,1]\n",
    "print(y)"
   ]
  },
  {
   "cell_type": "code",
   "execution_count": 19,
   "metadata": {},
   "outputs": [
    {
     "name": "stdout",
     "output_type": "stream",
     "text": [
      "[[0.53389254 0.3981539  1.52053735 1.03045409 0.82031104]\n",
      " [1.86536424 1.34534137 0.34966396 0.90274735 0.91992666]\n",
      " [1.05771636 1.54159865 0.89189996 0.2318043  0.24665589]\n",
      " [0.79422148 1.04705063 0.4959111  0.97603332 0.912261  ]]\n"
     ]
    }
   ],
   "source": [
    "# Add elements of x and y together\n",
    "print(np.add(x, y))"
   ]
  },
  {
   "cell_type": "code",
   "execution_count": 20,
   "metadata": {},
   "outputs": [
    {
     "name": "stdout",
     "output_type": "stream",
     "text": [
      "[[-0.28965961 -0.18696786  0.42536435 -0.52881444 -0.29044421]\n",
      " [-0.09236715 -0.58301126  0.07425179  0.83932107 -0.71188328]\n",
      " [ 0.72626815 -0.39084843 -0.09614017 -0.17414039 -0.19384687]\n",
      " [ 0.2225807   0.53765362  0.07810053 -0.03036571  0.14080007]]\n"
     ]
    }
   ],
   "source": [
    "# Subtract elements of x from elements of y\n",
    "print(np.subtract(y, x))"
   ]
  },
  {
   "cell_type": "code",
   "execution_count": 21,
   "metadata": {},
   "outputs": [
    {
     "name": "stdout",
     "output_type": "stream",
     "text": [
      "[[0.05028464 0.03089239 0.53277475 0.19554773 0.14713809]\n",
      " [0.86776301 0.36751032 0.02918789 0.02762323 0.08487181]\n",
      " [0.14782462 0.55594098 0.19656065 0.00585209 0.00581563]\n",
      " [0.1453114  0.2018109  0.05995703 0.23792974 0.20309887]]\n"
     ]
    }
   ],
   "source": [
    "# Multiply elements of x and y together\n",
    "print(np.multiply(x, y))"
   ]
  },
  {
   "cell_type": "code",
   "execution_count": 22,
   "metadata": {},
   "outputs": [
    {
     "name": "stdout",
     "output_type": "stream",
     "text": [
      "[[ 0.29656037  0.36092666  1.77679845  0.32171473  0.47703293]\n",
      " [ 0.90563859  0.39532713  1.53920489 27.46603435  0.12749241]\n",
      " [ 5.38239297  0.59548861  0.80539218  0.14204869  0.11988353]\n",
      " [ 1.77874323  3.11094141  1.37385618  0.93965473  1.36502189]]\n"
     ]
    }
   ],
   "source": [
    "# Divide elements of y by elements of x\n",
    "print(np.divide(y, x))"
   ]
  },
  {
   "cell_type": "code",
   "execution_count": null,
   "metadata": {},
   "outputs": [],
   "source": []
  }
 ],
 "metadata": {
  "kernelspec": {
   "display_name": "Python 3",
   "language": "python",
   "name": "python3"
  },
  "language_info": {
   "codemirror_mode": {
    "name": "ipython",
    "version": 3
   },
   "file_extension": ".py",
   "mimetype": "text/x-python",
   "name": "python",
   "nbconvert_exporter": "python",
   "pygments_lexer": "ipython3",
   "version": "3.7.3"
  }
 },
 "nbformat": 4,
 "nbformat_minor": 2
}
