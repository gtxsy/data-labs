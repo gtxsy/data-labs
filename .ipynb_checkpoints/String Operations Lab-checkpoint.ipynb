{
 "cells": [
  {
   "cell_type": "code",
   "execution_count": 1,
   "metadata": {},
   "outputs": [
    {
     "name": "stdout",
     "output_type": "stream",
     "text": [
      "HelloWorld\n",
      "HelloHelloHelloHelloHelloHelloHelloHello\n",
      "Happy Puppies\n",
      "Number of letters in autombile: 10\n",
      "First character: a\n",
      "Fifth character: o\n",
      "Final character: e\n"
     ]
    }
   ],
   "source": [
    "# Concatenate strings\n",
    "print('Hello' + 'World')\n",
    "# Print string multiple times\n",
    "print('Hello' * 8)\n",
    "# How to join two strings with a given string, ' ' empty space in this example\n",
    "x = 'Happy'\n",
    "y = 'Puppies'\n",
    "z = [x,y]\n",
    "print(' '.join(z))\n",
    "# Get the length of a string\n",
    "print(\"Number of letters in autombile:\", len('automobile'))\n",
    "# Get character inside of a string by index\n",
    "word = 'automobile'\n",
    "print(\"First character:\", word[0])\n",
    "print(\"Fifth character:\", word[5])\n",
    "print(\"Final character:\", word[-1])"
   ]
  },
  {
   "cell_type": "code",
   "execution_count": 2,
   "metadata": {},
   "outputs": [
    {
     "name": "stdout",
     "output_type": "stream",
     "text": [
      "\n",
      "['They', 'ate', 'the', 'mystery', 'meat.', 'It', 'tasted', 'like', 'chicken.']\n",
      "['They ate the mystery meat', ' It tasted like chicken', '']\n",
      "['They ate the ', 'ystery ', 'eat. It tasted like chicken.']\n"
     ]
    }
   ],
   "source": [
    "# How to split a string, by removing a given delimiter\n",
    "a = 'They ate the mystery meat. It tasted like chicken.'\n",
    "print(\"\")\n",
    "print(a.split())\n",
    "print(a.split('.'))\n",
    "print(a.split('m'))"
   ]
  },
  {
   "cell_type": "code",
   "execution_count": 3,
   "metadata": {},
   "outputs": [
    {
     "name": "stdout",
     "output_type": "stream",
     "text": [
      "\n",
      "True\n",
      "True\n",
      "False\n",
      "\n",
      "True\n",
      "True\n",
      "False\n",
      "\n",
      "True\n",
      "True\n",
      "False\n"
     ]
    }
   ],
   "source": [
    "# Does string begin with (str)?\n",
    "b = 'There is no business like show business.'\n",
    "print (\"\")\n",
    "print(b.startswith('T'))\n",
    "print(b.startswith('There'))\n",
    "print(b.startswith('there'))\n",
    "# Does string end with (str)?\n",
    "print(\"\")\n",
    "print(b.endswith('.'))\n",
    "print(b.endswith('business.'))\n",
    "print(b.endswith('Business.'))\n",
    "# How to check for substring\n",
    "print(\"\")\n",
    "print('like' in b)\n",
    "print('business' in b)\n",
    "print('Business' in b)"
   ]
  },
  {
   "cell_type": "code",
   "execution_count": 4,
   "metadata": {},
   "outputs": [
    {
     "name": "stdout",
     "output_type": "stream",
     "text": [
      "she had a marvelous assortment of puppets.\n",
      "SHE HAD A MARVELOUS ASSORTMENT OF PUPPETS.\n",
      "She had a marvelous assortment of puppets.\n",
      "She Had A Marvelous Assortment Of Puppets.\n"
     ]
    }
   ],
   "source": [
    "# How to change string case\n",
    "c = 'shE HaD a maRveLoUs aSsoRtmeNt of PUPPETS.'\n",
    "print(c.lower())\n",
    "print(c.upper())\n",
    "print(c.capitalize())\n",
    "print(c.title())"
   ]
  },
  {
   "cell_type": "code",
   "execution_count": 5,
   "metadata": {},
   "outputs": [
    {
     "name": "stdout",
     "output_type": "stream",
     "text": [
      "I have a tendency to leave trailing spaces.\n",
      "I have a tendency to leave trailing spaces. \n",
      " I have a tendency to leave trailing spaces.\n"
     ]
    }
   ],
   "source": [
    "d = ' I have a tendency to leave trailing spaces. '\n",
    "# Remove whitespace at beginning and end of string\n",
    "print(d.strip())\n",
    "# Remove whitespace at beginning of string\n",
    "print(d.lstrip())\n",
    "# Remove whitespace at end of string\n",
    "print(d.rstrip())"
   ]
  },
  {
   "cell_type": "code",
   "execution_count": 6,
   "metadata": {},
   "outputs": [
    {
     "name": "stdout",
     "output_type": "stream",
     "text": [
      "I thought the movie was horrible!\n",
      "I thought the movie was just OK!\n"
     ]
    }
   ],
   "source": [
    "e = 'I thought the movie was wonderful!'\n",
    "# New string with replaced substring\n",
    "print(e.replace('wonderful', 'horrible'))\n",
    "print(e.replace('wonderful', 'just OK'))"
   ]
  },
  {
   "cell_type": "code",
   "execution_count": 7,
   "metadata": {},
   "outputs": [
    {
     "name": "stdout",
     "output_type": "stream",
     "text": [
      "['neigh']\n",
      "['n', 'g', 'b', 'o', 'r', 'r', 'o', 'g', 'r', 's', 's', 'o', 'g', 's']\n",
      "['y', 'n', 'e', 'i', 'g', 'h', 'b', 'o', 'r', 'r', 'o', 'g', 'e', 'r', 's', 'h', 'a', 's', 'd', 'o', 'g', 's']\n",
      "['M', ' ', ',', ' ', 'M', '.', ' ', 'R', ',', ' ', ' ', '5', ' ', '.']\n",
      "['M', 'y', 'n', 'e', 'i', 'g', 'h', 'b', 'o', 'r', 'M', 'r', 'R', 'o', 'g', 'e', 'r', 's', 'h', 'a', 's', 'd', 'o', 'g', 's']\n",
      "['M', 'y', ' ', 'n', 'e', 'i', 'g', 'h', 'b', 'o', 'r', ' ', 'M', 'r', ' ', 'R', 'o', 'g', 'e', 'r', 's', ' ', 'h', 'a', 's', ' ', ' ', 'd', 'o', 'g', 's']\n"
     ]
    }
   ],
   "source": [
    "import re\n",
    "text = 'My neighbor, Mr. Rogers, has 5 dogs.'\n",
    "# Return all characters in a string that match a series of characters\n",
    "print(re.findall('neigh', text))\n",
    "# Return all characters in a string that match a chacracter within the brackets\n",
    "print(re.findall('[mngbors]', text))\n",
    "# Return all characters in a string that are lowercase\n",
    "print(re.findall('[a-z]', text))\n",
    "# Return all characters in a string that are NOT lowercase\n",
    "print(re.findall('[^a-z]', text))\n",
    "# Return all characters in a string that are letters (uppercase OR lowercase)\n",
    "print(re.findall('[a-zA-Z]', text))\n",
    "# Return all characters in a string that are letters (uppercase OR lowercase) OR whitespace\n",
    "print(re.findall('[a-zA-Z ]', text))"
   ]
  },
  {
   "cell_type": "code",
   "execution_count": 8,
   "metadata": {},
   "outputs": [
    {
     "name": "stdout",
     "output_type": "stream",
     "text": [
      "\\d\n",
      "['5']\n",
      "\n",
      "\\w\n",
      "['M', 'y', 'n', 'e', 'i', 'g', 'h', 'b', 'o', 'r', 'M', 'r', 'R', 'o', 'g', 'e', 'r', 's', 'h', 'a', 's', '5', 'd', 'o', 'g', 's']\n",
      "\n",
      "\\S\n",
      "['M', 'y', 'n', 'e', 'i', 'g', 'h', 'b', 'o', 'r', ',', 'M', 'r', '.', 'R', 'o', 'g', 'e', 'r', 's', ',', 'h', 'a', 's', '5', 'd', 'o', 'g', 's', '.']\n",
      "\n",
      ".\n",
      "['M', 'y', ' ', 'n', 'e', 'i', 'g', 'h', 'b', 'o', 'r', ',', ' ', 'M', 'r', '.', ' ', 'R', 'o', 'g', 'e', 'r', 's', ',', ' ', 'h', 'a', 's', ' ', '5', ' ', 'd', 'o', 'g', 's', '.']\n"
     ]
    }
   ],
   "source": [
    "import re\n",
    "text = 'My neighbor, Mr. Rogers, has 5 dogs.'\n",
    "# \\d: Any numeric character.\n",
    "print(\"\\d\")\n",
    "print(re.findall('[\\d]', text))\n",
    "# \\w: Any alphanumeric character.\n",
    "print(\"\\n\\w\")\n",
    "print(re.findall('[\\w]', text))\n",
    "# \\S: Any non-whitespace characters.\n",
    "print(\"\\n\\S\")\n",
    "print(re.findall('[\\S]', text))\n",
    "# .: Any character except newline (\\n).\n",
    "print(\"\\n.\")\n",
    "print(re.findall('.', text))\n",
    "# Also...\n",
    "# \\W: Any non-alphanumeric character.\n",
    "# \\D: Any non-numeric character.\n",
    "# \\s: Any whitespace characters."
   ]
  },
  {
   "cell_type": "code",
   "execution_count": 9,
   "metadata": {},
   "outputs": [
    {
     "name": "stdout",
     "output_type": "stream",
     "text": [
      "['My neighbor', 'Mr. Rogers', 'has 5 dogs.']\n",
      "['My neighbor, Mr. Rogers, has ', ' dogs.']\n",
      "My neighbor, Mr. Rogers, has 100 dogs.\n"
     ]
    }
   ],
   "source": [
    "import re\n",
    "text = 'My neighbor, Mr. Rogers, has 5 dogs.'\n",
    "# Split a string on specific characters, such as commas or any numeric values\n",
    "print(re.split(', ', text))\n",
    "# Split a string on any number\n",
    "print(re.split('[0-9]', text))\n",
    "# Replace (substitute) given regex with given string\n",
    "print(re.sub('[0-9]', '100', text))"
   ]
  },
  {
   "cell_type": "code",
   "execution_count": null,
   "metadata": {},
   "outputs": [],
   "source": []
  }
 ],
 "metadata": {
  "kernelspec": {
   "display_name": "Python 3",
   "language": "python",
   "name": "python3"
  },
  "language_info": {
   "codemirror_mode": {
    "name": "ipython",
    "version": 3
   },
   "file_extension": ".py",
   "mimetype": "text/x-python",
   "name": "python",
   "nbconvert_exporter": "python",
   "pygments_lexer": "ipython3",
   "version": "3.7.3"
  }
 },
 "nbformat": 4,
 "nbformat_minor": 2
}
