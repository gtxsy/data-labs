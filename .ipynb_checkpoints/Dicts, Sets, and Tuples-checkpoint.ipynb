{
 "cells": [
  {
   "cell_type": "code",
   "execution_count": 1,
   "metadata": {},
   "outputs": [
    {
     "name": "stdout",
     "output_type": "stream",
     "text": [
      "First value: dark\n",
      "Size of Tuple: 3\n",
      "A single tuple is saved as a: <class 'str'> \n",
      "\n",
      "dark\n",
      "milk\n",
      "semi sweet\n"
     ]
    }
   ],
   "source": [
    "# Define Tuples using parentheses and specify the sequence in our tuple as follows:\n",
    "chocolates = ('dark', 'milk', 'semi sweet')\n",
    "\n",
    "# Get value in Tuple by specifying index\n",
    "print(\"First value:\", chocolates[0])\n",
    "\n",
    "# This will throw an ERROR because Tuples are immutable \n",
    "#chocolates[3] = 'caramel filled'\n",
    "\n",
    "# Get size of Tuple\n",
    "print(\"Size of Tuple:\", len(chocolates))\n",
    "\n",
    "# This will also throw an ERROR because the Tuple only has 3 elements\n",
    "#chocolates[10]\n",
    "\n",
    "# Single Tuples aren't supported. Python will convert to a STRING\n",
    "myt = ('example')\n",
    "print(\"A single tuple is saved as a:\", type(myt), \"\\n\")\n",
    "\n",
    "# Iterate through a Tuple\n",
    "for chocolate in chocolates:\n",
    "    print(chocolate)"
   ]
  },
  {
   "cell_type": "code",
   "execution_count": 2,
   "metadata": {},
   "outputs": [
    {
     "name": "stdout",
     "output_type": "stream",
     "text": [
      "{'John': '312-555-1234', 'Paul': '312-555-3123', 'George': '312-555-3333', 'Ringo': '312-555-2222'} \n",
      "\n",
      "dict_keys(['John', 'Paul', 'George', 'Ringo'])\n",
      "dict_values(['312-555-1234', '312-555-3123', '312-555-3333', '312-555-2222'])\n",
      "dict_items([('John', '312-555-1234'), ('Paul', '312-555-3123'), ('George', '312-555-3333'), ('Ringo', '312-555-2222')])\n",
      "\n",
      " Updated Dict: \n",
      " {'John': '312-555-1234', 'Paul': '312-555-4444', 'George': '312-555-3333', 'Ringo': '312-555-2222', 'Pete': '312-555-1111'}\n",
      "\n",
      " After Deletion: \n",
      " {'John': '312-555-1234', 'Paul': '312-555-4444', 'George': '312-555-3333', 'Ringo': '312-555-2222'} \n",
      "\n",
      "John\n",
      "Paul\n",
      "George\n",
      "Ringo\n",
      "\n",
      "312-555-1234\n",
      "312-555-4444\n",
      "312-555-3333\n",
      "312-555-2222\n",
      "\n",
      "John: 312-555-1234\n",
      "Paul: 312-555-4444\n",
      "George: 312-555-3333\n",
      "Ringo: 312-555-2222\n"
     ]
    }
   ],
   "source": [
    "# Define a Dict by specifying all keys and values separated by a colon within curly braces\n",
    "contacts = {'John': '312-555-1234', 'Paul': '312-555-3123', 'George': '312-555-3333', 'Ringo': '312-555-2222'}\n",
    "print(contacts, \"\\n\")\n",
    "\n",
    "# How to get all KEYS from a Dict\n",
    "print(contacts.keys())\n",
    "\n",
    "# How to get all VALUES from a Dict\n",
    "print(contacts.values())\n",
    "\n",
    "# How to get all keys AND values as Tuples\n",
    "print(contacts.items())\n",
    "\n",
    "# Add a new key and value\n",
    "contacts['Pete'] = '312-555-1111'\n",
    "\n",
    "# Dicts are NOT immutable, so we can update key-value pairs like this\n",
    "contacts['Paul'] = '312-555-4444'\n",
    "print (\"\\n Updated Dict: \\n\", contacts)\n",
    "\n",
    "# Delete an entry in a Dict\n",
    "del contacts['Pete']\n",
    "print (\"\\n After Deletion: \\n\", contacts, \"\\n\")\n",
    "\n",
    "# How to create an EMPTY Dict\n",
    "empty_dict = {}\n",
    "\n",
    "# Iterate through KEYS in a Dict\n",
    "for i in contacts.keys():\n",
    "     print(i)\n",
    "print (\"\") \n",
    "\n",
    "# Iterate through VALUES in a Dict\n",
    "for i in contacts.values():\n",
    "    print(i)\n",
    "print (\"\") \n",
    "\n",
    "# Iterate through BOTH keys and values simultaneously\n",
    "for k, v in contacts.items():\n",
    "     print(k+\": \"+v)"
   ]
  },
  {
   "cell_type": "code",
   "execution_count": 3,
   "metadata": {},
   "outputs": [
    {
     "name": "stdout",
     "output_type": "stream",
     "text": [
      "{1: {'Name': 'John', 'Phone': '312-555-1234'}, 2: {'Name': 'Paul', 'Phone': '312-555-3123'}, 3: {'Name': 'George', 'Phone': '312-555-3333'}, 4: {'Name': 'Ringo', 'Phone': '312-555-2222'}}\n",
      "\n",
      " First Value of Nested Dict: \n",
      " {'Name': 'John', 'Phone': '312-555-1234'}\n",
      "\n",
      " First Contact's Name: \n",
      " John\n",
      "\n",
      " First Contact's Name: \n",
      " Jamal \n",
      "\n",
      "{'Name': 'Jamal', 'Phone': '312-555-1234'}\n",
      "{'Name': 'Paul', 'Phone': '312-555-3123'}\n",
      "{'Name': 'George', 'Phone': '312-555-3333'}\n",
      "{'Name': 'Ringo', 'Phone': '312-555-2222'}\n",
      "\n",
      "Jamal\n",
      "Paul\n",
      "George\n",
      "Ringo\n"
     ]
    }
   ],
   "source": [
    "# Define a nested Dict\n",
    "contacts = {1: {'Name' : 'John' , 'Phone':'312-555-1234'},\n",
    "           2: {'Name' : 'Paul' , 'Phone':'312-555-3123'},\n",
    "           3: {'Name' : 'George' , 'Phone':'312-555-3333'},\n",
    "           4: {'Name' : 'Ringo' , 'Phone':'312-555-2222'}}\n",
    "print(contacts)\n",
    "\n",
    "# Get first value\n",
    "print(\"\\n First Value of Nested Dict: \\n\",contacts[1])\n",
    "\n",
    "# Get nested value\n",
    "print(\"\\n First Contact's Name: \\n\", contacts[1]['Name'])\n",
    "\n",
    "# Update nested value\n",
    "contacts[1]['Name'] = \"Jamal\"\n",
    "print(\"\\n First Contact's Name: \\n\", contacts[1]['Name'],\"\\n\")\n",
    "\n",
    "# Iterate through nested Dict\n",
    "for item in contacts:\n",
    "    print(contacts[item])\n",
    "print(\"\")\n",
    "for item in contacts:\n",
    "    print(contacts[item]['Name'])"
   ]
  },
  {
   "cell_type": "code",
   "execution_count": 4,
   "metadata": {},
   "outputs": [
    {
     "name": "stdout",
     "output_type": "stream",
     "text": [
      "{'a'}\n",
      "set() \n",
      "\n",
      "{'Logan', 'Madison'}\n",
      "{'Madison', 'Joanna', 'John', 'Logan', 'Alexander', 'Mary'}\n",
      "{'Alexander', 'John'}\n"
     ]
    }
   ],
   "source": [
    "# Define a set\n",
    "letters = set()\n",
    "\n",
    "# Add element to a set\n",
    "letters.add('a')\n",
    "print(letters)\n",
    "\n",
    "# Remove element from a set\n",
    "letters.remove('a')\n",
    "print(letters, \"\\n\")\n",
    "\n",
    "# We start off defining both sets. Note that we have to use both parentheses and brackets.\n",
    "girl_names = set(['Mary', 'Madison', 'Logan', 'Joanna'])\n",
    "boy_names = set(['John', 'Alexander', 'Logan', 'Madison'])\n",
    "\n",
    "# We find the unisex names by finding the intersection of boy and girl names\n",
    "unisex_names = girl_names.intersection(boy_names)\n",
    "print(unisex_names)\n",
    "\n",
    "# We find the list of all names without duplicates by finding the union of both sets\n",
    "all_names = boy_names.union(girl_names)\n",
    "print(all_names)\n",
    "\n",
    "# We find the difference between both sets by subtracting one set from the other\n",
    "boy_only_names = boy_names - girl_names\n",
    "print(boy_only_names)"
   ]
  },
  {
   "cell_type": "code",
   "execution_count": null,
   "metadata": {},
   "outputs": [],
   "source": []
  }
 ],
 "metadata": {
  "kernelspec": {
   "display_name": "Python 3",
   "language": "python",
   "name": "python3"
  },
  "language_info": {
   "codemirror_mode": {
    "name": "ipython",
    "version": 3
   },
   "file_extension": ".py",
   "mimetype": "text/x-python",
   "name": "python",
   "nbconvert_exporter": "python",
   "pygments_lexer": "ipython3",
   "version": "3.7.3"
  }
 },
 "nbformat": 4,
 "nbformat_minor": 2
}
