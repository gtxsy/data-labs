{
 "cells": [
  {
   "cell_type": "code",
   "execution_count": 5,
   "metadata": {},
   "outputs": [
    {
     "name": "stdout",
     "output_type": "stream",
     "text": [
      "['a', 'a', 'a']\n",
      "['er', 'er']\n",
      "['e', 'r', 'e', 'r', 'r', 'e', 'r', 'e', 'r']\n"
     ]
    }
   ],
   "source": [
    "import re\n",
    "text = \"That person wears marvelous trousers.\"\n",
    "# Return all substrings in a text that match a given pattern\n",
    "pattern = 'a'\n",
    "print(re.findall(pattern, text))\n",
    "pattern = 'er'\n",
    "print(re.findall(pattern, text))\n",
    "# Using regex for given pattern\n",
    "pattern = '[er]'\n",
    "print(re.findall(pattern, text))"
   ]
  },
  {
   "cell_type": "code",
   "execution_count": 9,
   "metadata": {},
   "outputs": [
    {
     "name": "stdout",
     "output_type": "stream",
     "text": [
      "['gray', 'grey']\n",
      "['A', 'B', 'C']\n",
      "['1', '2', '3']\n"
     ]
    }
   ],
   "source": [
    "import re\n",
    "text = \"Is it spelled gray or grey?\"\n",
    "# Using a regular expressions INSIDE a string\n",
    "pattern = 'gr[ae]y'\n",
    "print(re.findall(pattern, text))\n",
    "# The '-' meta-character denotes range. Find all characters between A and C, inclusive:\n",
    "text = \"This is an A and B conversation, so C your way out of it.\"\n",
    "pattern = '[A-C]'\n",
    "print(re.findall(pattern, text))\n",
    "# With numeric values:\n",
    "text = \"I'm not going to the party because 1) Karen is going, 2) I don't like her, and 3) I already have a headache.\"\n",
    "pattern = '[1-3]'\n",
    "print(re.findall(pattern, text))\n"
   ]
  },
  {
   "cell_type": "code",
   "execution_count": 29,
   "metadata": {},
   "outputs": [
    {
     "name": "stdout",
     "output_type": "stream",
     "text": [
      "['M', 'y', ' ', 'b', 'o', 's', 's', ' ', 'a', 's', 'k', 'e', 'd', ' ', 'm', 'e', ' ', 't', 'o', ' ', 't', 'u', 'r', 'n', ' ', 'i', 'n', ' ', 'm', 'y', ' ', 'T', 'P', 'S', ' ', 'r', 'e', 'p', 'o', 'r', 't', 's', '.', ' ', ' ', 'I', ' ', 't', 'o', 'l', 'd', ' ', 'h', 'i', 'm', ' ', 't', 'h', 'e', 'y', ' ', 'w', 'e', 'r', 'e', ' ', 'd', 'o', 'n', 'e', ',', ' ', 'b', 'u', 't', ' ', 't', 'h', 'e', 'y', ' ', 'a', 'r', 'e', ' ', 'n', 'o', 't', '.']\n",
      "\n",
      " ['M', 'y', ' ', 'o', 's', 's', ' ', 's', ' ', ' ', 't', 'o', ' ', 't', 'u', 'r', 'n', ' ', 'n', ' ', 'y', ' ', 'T', 'P', 'S', ' ', 'r', 'p', 'o', 'r', 't', 's', '.', ' ', '\\n', ' ', 'I', ' ', 't', 'o', ' ', ' ', 't', 'y', ' ', 'w', 'r', ' ', 'o', 'n', ',', ' ', 'u', 't', ' ', 't', 'y', ' ', 'r', ' ', 'n', 'o', 't', '.']\n",
      "\n",
      " ['My boss']\n",
      "['they are not.']\n",
      "['boss', 'TPS', 'reports']\n"
     ]
    }
   ],
   "source": [
    "import re\n",
    "# Meta-characters\n",
    "# []: Match set of characters\n",
    "# ^: Match characters not listed if within set or match beginning of line\n",
    "# $: Match end of line\n",
    "# |: Functions as an \"OR\" operator\n",
    "text = \"My boss asked me to turn in my TPS reports. \\n I told him they were done, but they are not.\"\n",
    "# Use . to return all characters within a string\n",
    "pattern = '.'\n",
    "print(re.findall(pattern, text))\n",
    "# Using regex with ^ denotes logical inverse (NOT)\n",
    "pattern = '[^a-m]'\n",
    "print(\"\\n\", re.findall(pattern, text))\n",
    "# HOWEVER, a ^ symbol OUTSIDE of brackers is a pattern that matches at the beginning of a line\n",
    "pattern = '^My boss'\n",
    "print(\"\\n\", re.findall(pattern, text))\n",
    "# Similarly, the $ meta-character can be used to match a pattern at the end of a line.\n",
    "pattern = 'they are not.$'\n",
    "print(re.findall(pattern, text))\n",
    "# | denotes the OR operation\n",
    "pattern = 'boss|TPS|reports'\n",
    "print(re.findall(pattern, text))"
   ]
  },
  {
   "cell_type": "code",
   "execution_count": 35,
   "metadata": {},
   "outputs": [
    {
     "name": "stdout",
     "output_type": "stream",
     "text": [
      "['cat', 'ct', 'cat', 'ct', 'ct']\n",
      "['cat', 'cat']\n",
      "['color', 'colour']\n",
      "\n",
      "['aww', 'aww', 'aww', 'aww']\n",
      "['aww', 'awww', 'awwww', 'awwww']\n"
     ]
    }
   ],
   "source": [
    "import re\n",
    "# Quantifiers help you repeat patterns a certain number of times.\n",
    "# *: Matches previous character 0 or more times\n",
    "# +: Matches previous character 1 or more times\n",
    "# ?: Matches previous character 0 or 1 times (optional)\n",
    "# {}: Matches previous characters however many times specified within:\n",
    "# --{n} : Exactly n times\n",
    "# --{n,} : At least n times\n",
    "# --{n,m} : Between n and m times\n",
    "text = \"The complicit cat interacted with the other cats exactly as we expected.\"\n",
    "# Find all substrings that contain 0 or more 'a' chracters in BETWEEN 'c' and 't'\n",
    "pattern = \"ca*t\"\n",
    "print(re.findall(pattern, text))\n",
    "# Find all substrings that contain 1 or more 'a' chracters in BETWEEN 'c' and 't'\n",
    "pattern = \"ca+t\"\n",
    "print(re.findall(pattern, text))\n",
    "# Find all substrings that contain either 0 or 1 'u' characters in between 'colo' and 'r'\n",
    "text = \"Is the correct spelling color or colour?\"\n",
    "pattern = \"colou?r\"\n",
    "print(re.findall(pattern, text))\n",
    "print (\"\")\n",
    "# Return all substrings that match \"aww\" (= \"aw{2}\")\n",
    "text = \"Let's see how we can match the following: aw, aww, awww, awwww, awwwww\"\n",
    "pattern = \"aw{2}\"\n",
    "print(re.findall(pattern, text))\n",
    "# Return all substrings that have 2-4 'w' characters after 'a'\n",
    "pattern = \"aw{2,4}\"\n",
    "print(re.findall(pattern, text))"
   ]
  },
  {
   "cell_type": "code",
   "execution_count": 42,
   "metadata": {},
   "outputs": [
    {
     "name": "stdout",
     "output_type": "stream",
     "text": [
      "['T', 'h', '1', 's', 'i', 's', 'g', 'o', 'i', 'n', 'g', 't', 'o', '_', 'b', 'e', 'a', 'w', 'e', 'i', 'r', 'd', 's', 'e', 'n', 't', 'e', 'n', 'c', 'e', 'w', 'i', 't', 'h', 'b', 'u', 'n', 'c', 'h', 'o', 'f', 't', 'u', 'f', 'f', 'i', 'n', 'i', 't', '3']\n",
      "\n",
      "[' ', ' ', ' ', ' ', ' ', ' ', ' ', ' ', '@', ' ', '-', '-', '$', ' ', ' ', ' ', '<', '.']\n",
      "\n",
      "['1', '3']\n",
      "\n",
      "['T', 'h', 's', ' ', 'i', 's', ' ', 'g', 'o', 'i', 'n', 'g', ' ', 't', 'o', '_', 'b', 'e', ' ', 'a', ' ', 'w', 'e', 'i', 'r', 'd', ' ', 's', 'e', 'n', 't', 'e', 'n', 'c', 'e', ' ', 'w', 'i', 't', 'h', ' ', '@', ' ', 'b', 'u', 'n', 'c', 'h', '-', 'o', 'f', '-', '$', 't', 'u', 'f', 'f', ' ', 'i', 'n', ' ', 'i', 't', ' ', '<', '.']\n"
     ]
    }
   ],
   "source": [
    "import re\n",
    "# Character Classes\n",
    "# \\w: Any alphanumeric character.\n",
    "# \\W: Any non-alphanumeric character.\n",
    "# \\d: Any numeric character.\n",
    "# \\D: Any non-numeric character.\n",
    "# \\s: Any whitespace characters.\n",
    "# \\S: Any non-whitespace characters.\n",
    "text = \"Th1s is going to_be a weird sentence with @ bunch-of-$tuff in it <3.\"\n",
    "# Return all alphanumeric characters\n",
    "pattern = '\\w'\n",
    "print(re.findall(pattern, text))\n",
    "print (\"\")\n",
    "# Return all non-alphanumeric characters, (the inverse of \\w)\n",
    "pattern = '\\W'\n",
    "print(re.findall(pattern, text))\n",
    "print (\"\")\n",
    "# Return all numeric characters\n",
    "pattern = '\\d'\n",
    "print(re.findall(pattern, text))\n",
    "print (\"\")\n",
    "# Return all non-numeric characters, (the inverse of \\d)\n",
    "pattern = '\\D'\n",
    "print(re.findall(pattern, text))\n"
   ]
  },
  {
   "cell_type": "code",
   "execution_count": 49,
   "metadata": {},
   "outputs": [
    {
     "name": "stdout",
     "output_type": "stream",
     "text": [
      "['If', 'you', 'tell', 'the', 'truth', 'you', 'don', 't', 'have', 'to', 'remember', 'anything']\n",
      "['tell', 'truth', 'have', 'remember', 'anything']\n",
      "\n",
      "['Terra', 'Power', 'Bill', 'Gates', 'China', 'Trump']\n",
      "[('TerraPower', ''), ('Bill Gates', ''), ('', 'China'), ('', 'Trump')]\n",
      "['TerraPower', 'Bill Gates', 'China', 'Trump']\n"
     ]
    }
   ],
   "source": [
    "import re\n",
    "# Extracting words from a text\n",
    "text = \"If you tell the truth, you don't have to remember anything.\"\n",
    "# WARNING: This does not preserve words that have ' apostraphes, such as \"don't\"\n",
    "pattern = '\\w+'\n",
    "print(re.findall(pattern, text))\n",
    "# Return all words with 4 or more chars\n",
    "pattern = '\\w{4,}'\n",
    "print(re.findall(pattern, text))\n",
    "print (\"\")\n",
    "# Return all words that begin with a capital letter\n",
    "text = \"TerraPower, a nuclear-energy company founded by Bill Gates, is unlikely to follow through on building a demonstration reactor in China, due largely to the Trump administration’s crackdown on the country.\"\n",
    "pattern = '[A-Z][a-z]+'\n",
    "print(re.findall(pattern, text))\n",
    "# Define an accepted GRAMMAR\n",
    "pattern = '([A-Z][a-z]+ ?[A-Z][a-z]+)|([A-Z][a-z]+)'\n",
    "print(re.findall(pattern, text))\n",
    "# Returns same as above, in a neat list\n",
    "results = [i for j in re.findall(pattern, text) for i in j if i != '']\n",
    "print(results)"
   ]
  },
  {
   "cell_type": "code",
   "execution_count": 57,
   "metadata": {},
   "outputs": [
    {
     "name": "stdout",
     "output_type": "stream",
     "text": [
      "['\"We’re talking flunk-your-classes, can’t-find-a-job, live-in-a-dark-hole kinds of problems, with depression, anxiety and sometimes suicidal thoughts part of the mix,\"']\n"
     ]
    }
   ],
   "source": [
    "import re\n",
    "# How to extract quotes from a text\n",
    "text = \"\"\"\n",
    "For eight young men the AP tracked down in Seattle, tech obsession has become something much darker, getting in the way of their normal lives.\n",
    "\"We’re talking flunk-your-classes, can’t-find-a-job, live-in-a-dark-hole kinds of problems, with depression, anxiety and sometimes suicidal thoughts part of the mix,\" the AP's Martha Irvine reports.\n",
    "\"\"\"\n",
    "pattern = '\".*\"'\n",
    "# WARNING: Does NOT work if the quote contains a line break\n",
    "print(re.findall(pattern, text))"
   ]
  },
  {
   "cell_type": "code",
   "execution_count": 59,
   "metadata": {},
   "outputs": [
    {
     "name": "stdout",
     "output_type": "stream",
     "text": [
      "['800-237-6639', '888-247-2262', '888-247-2262', '800-567-6567', '800-361-2965', '800-661-0407', '888-545-6794', '866-847-1112', '800-426-0333', '866-516-1685', '702-505-8888', '800-433-7300', '807-577-1141', '867-874-3333', '800-839-2256', '800-227-3247', '800-455-2720', '800-267-1247', '204-888-2665', '801-401-9000', '800-665-0212', '877-426-4537', '800-547-9308', '866-285-8307', '800-388-1105', '800-538-2583', '888-619-8622', '801-401-9100', '800-435-9792', '801-401-2222', '800-359-6786', '800-803-9943', '800-864-8331', '877-359-8474', '888-935-9848', '855-865-2747', '888-937-8538']\n"
     ]
    }
   ],
   "source": [
    "import re\n",
    "# How to extract formatted numbers\n",
    "text = \"\"\"\n",
    "Aeromexico 800-237-6639\n",
    "Air Canada 888-247-2262\n",
    "Air Canada Rouge 888-247-2262\n",
    "Air Creebec 800-567-6567\n",
    "Air Inuit 800-361-2965\n",
    "Air North 800-661-0407\n",
    "Air Tindi 888-545-6794\n",
    "Air Transat 866-847-1112\n",
    "Alaska Airlines 800-426-0333, 866-516-1685\n",
    "Allegiant Air 702-505-8888\n",
    "American Airlines 800-433-7300\n",
    "Bearskin Airlines 807-577-1141\n",
    "Buffalo Airways 867-874-3333\n",
    "Calm Air 800-839-2256\n",
    "Cape Air 800-227-3247\n",
    "Delta Air Lines 800-455-2720\n",
    "First Air 800-267-1247\n",
    "Flair Airlines 204-888-2665\n",
    "Frontier Airlines 801-401-9000\n",
    "Harbor Air 800-665-0212\n",
    "Hawaiian Airlines 877-426-4537\n",
    "Horizon Air 800-547-9308\n",
    "InterJet 866-285-8307\n",
    "Island Air 800-388-1105\n",
    "JetBlue 800-538-2583\n",
    "Porter Airlines 888-619-8622\n",
    "Silver Airways 801-401-9100\n",
    "Southwest Airlines 800-435-9792\n",
    "Spirit Airlines 801-401-2222\n",
    "Sun Country Airlines 800-359-6786\n",
    "Sunwing 877-SUN-WING\n",
    "Thunder Airlines 800-803-9943\n",
    "United Airlines 800-864-8331\n",
    "Virgin America 877-359-8474\n",
    "VivaAerobus 888-935-9848 \n",
    "Volaris 855-865-2747\n",
    "WestJet Airlines 888-937-8538\n",
    "\"\"\"\n",
    "pattern = '\\d+-\\d+-\\d+'\n",
    "print(re.findall(pattern, text))"
   ]
  },
  {
   "cell_type": "code",
   "execution_count": null,
   "metadata": {},
   "outputs": [],
   "source": []
  }
 ],
 "metadata": {
  "kernelspec": {
   "display_name": "Python 3",
   "language": "python",
   "name": "python3"
  },
  "language_info": {
   "codemirror_mode": {
    "name": "ipython",
    "version": 3
   },
   "file_extension": ".py",
   "mimetype": "text/x-python",
   "name": "python",
   "nbconvert_exporter": "python",
   "pygments_lexer": "ipython3",
   "version": "3.7.3"
  }
 },
 "nbformat": 4,
 "nbformat_minor": 2
}
