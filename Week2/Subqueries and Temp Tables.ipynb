{
 "cells": [
  {
   "cell_type": "code",
   "execution_count": null,
   "metadata": {},
   "outputs": [],
   "source": [
    "# Summarize store sales \n",
    "SELECT stores.stor_name AS Store, COUNT(DISTINCT(ord_num)) AS Orders, COUNT(title_id) AS Items, SUM(qty) AS Qty\n",
    "FROM publications.sales sales\n",
    "INNER JOIN publications.stores stores ON stores.stor_id = sales.stor_id\n",
    "GROUP BY Store;"
   ]
  },
  {
   "cell_type": "code",
   "execution_count": null,
   "metadata": {},
   "outputs": [],
   "source": [
    "# Example subquery to show avg quantity per item in each store\n",
    "SELECT Store, Items/Orders AS AvgItems, Qty/Items AS AvgQty\n",
    "FROM (\n",
    "    SELECT stores.stor_name AS Store, COUNT(DISTINCT(ord_num)) AS Orders, COUNT(title_id) AS Items, SUM(qty) AS Qty\n",
    "    FROM publications.sales sales\n",
    "    INNER JOIN publications.stores stores ON stores.stor_id = sales.stor_id\n",
    "    GROUP BY Store\n",
    ") summary;"
   ]
  },
  {
   "cell_type": "code",
   "execution_count": null,
   "metadata": {},
   "outputs": [],
   "source": [
    "# Display sales by title for the stores that averaged more than one item per order\n",
    "SELECT Store, ord_num AS OrderNumber, ord_date AS OrderDate, title AS Title, sales.qty AS Qty, price AS Price, type as Type\n",
    "FROM (\n",
    "    SELECT stores.stor_id AS StoreID, stores.stor_name AS Store, COUNT(DISTINCT(ord_num)) AS Orders, COUNT(title_id) AS Items, SUM(qty) AS Qty\n",
    "    FROM publications.sales sales\n",
    "    INNER JOIN publications.stores stores ON stores.stor_id = sales.stor_id\n",
    "    GROUP BY StoreID, Store\n",
    ") summary\n",
    "INNER JOIN publications.sales sales ON summary.StoreID = sales.stor_id\n",
    "INNER JOIN publications.titles ON sales.title_id = titles.title_id\n",
    "WHERE Items / Orders > 1;"
   ]
  },
  {
   "cell_type": "code",
   "execution_count": null,
   "metadata": {},
   "outputs": [],
   "source": [
    "# How to create a Temporary Table\n",
    "CREATE TEMPORARY TABLE publications.store_sales_summary\n",
    "SELECT stores.stor_id AS StoreID, stores.stor_name AS Store, COUNT(DISTINCT(ord_num)) AS Orders, COUNT(title_id) AS Items, SUM(qty) AS Qty\n",
    "FROM publications.sales sales\n",
    "INNER JOIN publications.stores stores ON stores.stor_id = sales.stor_id\n",
    "GROUP BY StoreID, Store;\n",
    "\n",
    "# Display sales by title for the stores that averaged more than one item per order\n",
    "SELECT Store, ord_num AS OrderNumber, ord_date AS OrderDate, title AS Title, sales.qty AS Qty, price AS Price, type as Type\n",
    "FROM publications.store_sales_summary summary\n",
    "INNER JOIN publications.sales sales ON summary.StoreID = sales.stor_id\n",
    "INNER JOIN publications.titles ON sales.title_id = titles.title_id\n",
    "WHERE Items / Orders > 1"
   ]
  },
  {
   "cell_type": "code",
   "execution_count": null,
   "metadata": {},
   "outputs": [],
   "source": [
    "# Display royalties for each title by each author\n",
    "SELECT t.title_id, ta.au_id, title, (t.price * s.qty * t.royalty / 100 * ta.royaltyper / 100) AS \"Royalty\" FROM titles AS t\n",
    "INNER JOIN titleauthor AS ta ON t.title_id = ta.title_id\n",
    "INNER JOIN sales AS s ON t.title_id = s.title_id;"
   ]
  },
  {
   "cell_type": "code",
   "execution_count": null,
   "metadata": {},
   "outputs": [],
   "source": [
    "# Aggregate royalties with a temp table\n",
    "CREATE TEMPORARY TABLE publications.royalty\n",
    "SELECT t.title_id, ta.au_id, title, (t.price * s.qty * t.royalty / 100 * ta.royaltyper / 100) AS \"Royalty\" FROM titles AS t\n",
    "INNER JOIN titleauthor AS ta ON t.title_id = ta.title_id\n",
    "INNER JOIN sales AS s ON t.title_id = s.title_id;\n",
    "\n",
    "SELECT title_id, au_id, SUM(royalty.Royalty) AS \"Total Royalty\"\n",
    "FROM royalty\n",
    "GROUP BY au_id, title_id;\n",
    "\n",
    "# Same result, using a subquery\n",
    "SELECT title_id, au_id, SUM(Royalty) AS \"TotalRoyalty\"\n",
    "FROM (\n",
    "    SELECT t.title_id, ta.au_id, title, (t.price * s.qty * t.royalty / 100 * ta.royaltyper / 100) AS \"Royalty\" FROM titles AS t\n",
    "    INNER JOIN titleauthor AS ta ON t.title_id = ta.title_id\n",
    "    INNER JOIN sales AS s ON t.title_id = s.title_id\n",
    ") totalroyalty\n",
    "GROUP BY au_id, title_id;"
   ]
  },
  {
   "cell_type": "code",
   "execution_count": null,
   "metadata": {},
   "outputs": [],
   "source": [
    "# Aggregate royalties by AUTHOR using 2 temp tables\n",
    "CREATE TEMPORARY TABLE publications.royalty\n",
    "SELECT t.title_id, ta.au_id, title, (t.price * s.qty * t.royalty / 100 * ta.royaltyper / 100) AS \"Royalty\" FROM titles AS t\n",
    "INNER JOIN titleauthor AS ta ON t.title_id = ta.title_id\n",
    "INNER JOIN sales AS s ON t.title_id = s.title_id;\n",
    "\n",
    "CREATE TEMPORARY TABLE publications.total_royalty\n",
    "SELECT title_id, au_id, SUM(royalty.Royalty) AS \"TotalRoyalty\"\n",
    "FROM publications.royalty\n",
    "GROUP BY au_id, title_id;\n",
    "\n",
    "SELECT au_id, SUM(TotalRoyalty) AS \"Total Royalty by Author\"\n",
    "FROM publications.total_royalty\n",
    "GROUP BY au_id;\n",
    "\n",
    "# Same result, using 2 subqueries\n",
    "SELECT au_id, SUM(TotalRoyalty) AS \"Total Royalty by Author\"\n",
    "FROM (\n",
    "\tSELECT title_id, au_id, SUM(Royalty) AS \"TotalRoyalty\"\n",
    "\tFROM (\n",
    "\t\tSELECT t.title_id, ta.au_id, title, (t.price * s.qty * t.royalty / 100 * ta.royaltyper / 100) AS \"Royalty\" FROM titles AS t\n",
    "\t\tINNER JOIN titleauthor AS ta ON t.title_id = ta.title_id\n",
    "\t\tINNER JOIN sales AS s ON t.title_id = s.title_id\n",
    "\t) totalroyalty\n",
    "\tGROUP BY au_id, title_id\n",
    ") totalRoyaltyByAuthor\n",
    "GROUP BY au_id;"
   ]
  },
  {
   "cell_type": "code",
   "execution_count": null,
   "metadata": {},
   "outputs": [],
   "source": [
    "# Final Challenge: Insert previous results into new table\n",
    "\n",
    "#DROP TABLE publications.most_profiting_authors;\n",
    "\n",
    "CREATE TABLE most_profiting_authors(au_id VARCHAR(16), profit FLOAT);\n",
    "\n",
    "#DROP TABLE publications.total_royalty_by_author;\n",
    "\n",
    "CREATE TEMPORARY TABLE publications.total_royalty_by_author\n",
    "SELECT au_id, SUM(TotalRoyalty) AS \"Total Royalty by Author\"\n",
    "FROM publications.total_royalty\n",
    "GROUP BY au_id;\n",
    "\n",
    "SELECT * FROM publications.total_royalty_by_author;\n",
    "\n",
    "INSERT INTO publications.most_profiting_authors\n",
    "SELECT *\n",
    "FROM publications.total_royalty_by_author;"
   ]
  }
 ],
 "metadata": {
  "kernelspec": {
   "display_name": "Python 3",
   "language": "python",
   "name": "python3"
  },
  "language_info": {
   "codemirror_mode": {
    "name": "ipython",
    "version": 3
   },
   "file_extension": ".py",
   "mimetype": "text/x-python",
   "name": "python",
   "nbconvert_exporter": "python",
   "pygments_lexer": "ipython3",
   "version": "3.7.3"
  }
 },
 "nbformat": 4,
 "nbformat_minor": 2
}
